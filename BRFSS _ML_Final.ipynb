{
 "cells": [
  {
   "cell_type": "code",
   "execution_count": 1,
   "id": "9073fae4",
   "metadata": {},
   "outputs": [],
   "source": [
    "import sys\n",
    "import os\n",
    "import textwrap\n",
    "import numpy as np\n",
    "import pandas as pd\n",
    "import sweetviz as sv\n",
    "import seaborn as sns\n",
    "import matplotlib.pyplot as plt\n",
    "import statsmodels.api as sm\n",
    "import copy, math\n",
    "import warnings\n",
    "from sklearn.preprocessing import OneHotEncoder\n",
    "from sklearn.ensemble import RandomForestClassifier\n",
    "from sklearn.model_selection import train_test_split\n",
    "from sklearn.metrics import accuracy_score\n",
    "from sklearn.metrics import classification_report\n",
    "from sklearn.preprocessing import label_binarize\n",
    "from sklearn.metrics import roc_curve, auc\n",
    "from sklearn.metrics import confusion_matrix"
   ]
  },
  {
   "cell_type": "code",
   "execution_count": 2,
   "id": "60142dd6",
   "metadata": {},
   "outputs": [
    {
     "name": "stdout",
     "output_type": "stream",
     "text": [
      "3.9.12 (main, Apr  4 2022, 05:22:27) [MSC v.1916 64 bit (AMD64)] \n",
      "\n",
      "Pandas version: 1.4.2 \n",
      "\n",
      "Numpy version: 1.21.6 \n",
      "\n",
      "Seaborn version: 0.11.2 \n",
      "\n"
     ]
    }
   ],
   "source": [
    "print(textwrap.fill(sys.version),'\\n')\n",
    "print(\"Pandas version: {0}\".format(pd.__version__),'\\n')\n",
    "#print(\"Matplotlib version: {0}\".format(matplotlib.__version__),'\\n')\n",
    "print(\"Numpy version: {0}\".format(np.__version__),'\\n')\n",
    "print(\"Seaborn version: {0}\".format(sns.__version__),'\\n')"
   ]
  },
  {
   "cell_type": "code",
   "execution_count": 3,
   "id": "0cfd3a1f",
   "metadata": {},
   "outputs": [],
   "source": [
    "## So all output comes through from Ipython\n",
    "from IPython.core.interactiveshell import InteractiveShell\n",
    "InteractiveShell.ast_node_interactivity = \"all\""
   ]
  },
  {
   "cell_type": "code",
   "execution_count": 4,
   "id": "745e87b5",
   "metadata": {},
   "outputs": [
    {
     "name": "stdout",
     "output_type": "stream",
     "text": [
      "C:\\Users\\tua0\\Desktop\\ML\\BRFSS Survey data\\BiNit\n"
     ]
    }
   ],
   "source": [
    "# getting working directory\n",
    "print(os.getcwd())"
   ]
  },
  {
   "cell_type": "code",
   "execution_count": 5,
   "id": "e8f1143c",
   "metadata": {},
   "outputs": [
    {
     "name": "stderr",
     "output_type": "stream",
     "text": [
      "C:\\Users\\tua0\\AppData\\Local\\Temp\\1\\ipykernel_11400\\2828048442.py:1: PerformanceWarning: DataFrame is highly fragmented.  This is usually the result of calling `frame.insert` many times, which has poor performance.  Consider joining all columns at once using pd.concat(axis=1) instead. To get a de-fragmented frame, use `newframe = frame.copy()`\n",
      "  df = pd.read_sas('LLCP2021.XPT',encoding = 'UTF-8')\n",
      "C:\\Users\\tua0\\AppData\\Local\\Temp\\1\\ipykernel_11400\\2828048442.py:1: PerformanceWarning: DataFrame is highly fragmented.  This is usually the result of calling `frame.insert` many times, which has poor performance.  Consider joining all columns at once using pd.concat(axis=1) instead. To get a de-fragmented frame, use `newframe = frame.copy()`\n",
      "  df = pd.read_sas('LLCP2021.XPT',encoding = 'UTF-8')\n",
      "C:\\Users\\tua0\\AppData\\Local\\Temp\\1\\ipykernel_11400\\2828048442.py:1: PerformanceWarning: DataFrame is highly fragmented.  This is usually the result of calling `frame.insert` many times, which has poor performance.  Consider joining all columns at once using pd.concat(axis=1) instead. To get a de-fragmented frame, use `newframe = frame.copy()`\n",
      "  df = pd.read_sas('LLCP2021.XPT',encoding = 'UTF-8')\n",
      "C:\\Users\\tua0\\AppData\\Local\\Temp\\1\\ipykernel_11400\\2828048442.py:1: PerformanceWarning: DataFrame is highly fragmented.  This is usually the result of calling `frame.insert` many times, which has poor performance.  Consider joining all columns at once using pd.concat(axis=1) instead. To get a de-fragmented frame, use `newframe = frame.copy()`\n",
      "  df = pd.read_sas('LLCP2021.XPT',encoding = 'UTF-8')\n",
      "C:\\Users\\tua0\\AppData\\Local\\Temp\\1\\ipykernel_11400\\2828048442.py:1: PerformanceWarning: DataFrame is highly fragmented.  This is usually the result of calling `frame.insert` many times, which has poor performance.  Consider joining all columns at once using pd.concat(axis=1) instead. To get a de-fragmented frame, use `newframe = frame.copy()`\n",
      "  df = pd.read_sas('LLCP2021.XPT',encoding = 'UTF-8')\n",
      "C:\\Users\\tua0\\AppData\\Local\\Temp\\1\\ipykernel_11400\\2828048442.py:1: PerformanceWarning: DataFrame is highly fragmented.  This is usually the result of calling `frame.insert` many times, which has poor performance.  Consider joining all columns at once using pd.concat(axis=1) instead. To get a de-fragmented frame, use `newframe = frame.copy()`\n",
      "  df = pd.read_sas('LLCP2021.XPT',encoding = 'UTF-8')\n",
      "C:\\Users\\tua0\\AppData\\Local\\Temp\\1\\ipykernel_11400\\2828048442.py:1: PerformanceWarning: DataFrame is highly fragmented.  This is usually the result of calling `frame.insert` many times, which has poor performance.  Consider joining all columns at once using pd.concat(axis=1) instead. To get a de-fragmented frame, use `newframe = frame.copy()`\n",
      "  df = pd.read_sas('LLCP2021.XPT',encoding = 'UTF-8')\n",
      "C:\\Users\\tua0\\AppData\\Local\\Temp\\1\\ipykernel_11400\\2828048442.py:1: PerformanceWarning: DataFrame is highly fragmented.  This is usually the result of calling `frame.insert` many times, which has poor performance.  Consider joining all columns at once using pd.concat(axis=1) instead. To get a de-fragmented frame, use `newframe = frame.copy()`\n",
      "  df = pd.read_sas('LLCP2021.XPT',encoding = 'UTF-8')\n",
      "C:\\Users\\tua0\\AppData\\Local\\Temp\\1\\ipykernel_11400\\2828048442.py:1: PerformanceWarning: DataFrame is highly fragmented.  This is usually the result of calling `frame.insert` many times, which has poor performance.  Consider joining all columns at once using pd.concat(axis=1) instead. To get a de-fragmented frame, use `newframe = frame.copy()`\n",
      "  df = pd.read_sas('LLCP2021.XPT',encoding = 'UTF-8')\n",
      "C:\\Users\\tua0\\AppData\\Local\\Temp\\1\\ipykernel_11400\\2828048442.py:1: PerformanceWarning: DataFrame is highly fragmented.  This is usually the result of calling `frame.insert` many times, which has poor performance.  Consider joining all columns at once using pd.concat(axis=1) instead. To get a de-fragmented frame, use `newframe = frame.copy()`\n",
      "  df = pd.read_sas('LLCP2021.XPT',encoding = 'UTF-8')\n",
      "C:\\Users\\tua0\\AppData\\Local\\Temp\\1\\ipykernel_11400\\2828048442.py:1: PerformanceWarning: DataFrame is highly fragmented.  This is usually the result of calling `frame.insert` many times, which has poor performance.  Consider joining all columns at once using pd.concat(axis=1) instead. To get a de-fragmented frame, use `newframe = frame.copy()`\n",
      "  df = pd.read_sas('LLCP2021.XPT',encoding = 'UTF-8')\n",
      "C:\\Users\\tua0\\AppData\\Local\\Temp\\1\\ipykernel_11400\\2828048442.py:1: PerformanceWarning: DataFrame is highly fragmented.  This is usually the result of calling `frame.insert` many times, which has poor performance.  Consider joining all columns at once using pd.concat(axis=1) instead. To get a de-fragmented frame, use `newframe = frame.copy()`\n",
      "  df = pd.read_sas('LLCP2021.XPT',encoding = 'UTF-8')\n",
      "C:\\Users\\tua0\\AppData\\Local\\Temp\\1\\ipykernel_11400\\2828048442.py:1: PerformanceWarning: DataFrame is highly fragmented.  This is usually the result of calling `frame.insert` many times, which has poor performance.  Consider joining all columns at once using pd.concat(axis=1) instead. To get a de-fragmented frame, use `newframe = frame.copy()`\n",
      "  df = pd.read_sas('LLCP2021.XPT',encoding = 'UTF-8')\n",
      "C:\\Users\\tua0\\AppData\\Local\\Temp\\1\\ipykernel_11400\\2828048442.py:1: PerformanceWarning: DataFrame is highly fragmented.  This is usually the result of calling `frame.insert` many times, which has poor performance.  Consider joining all columns at once using pd.concat(axis=1) instead. To get a de-fragmented frame, use `newframe = frame.copy()`\n",
      "  df = pd.read_sas('LLCP2021.XPT',encoding = 'UTF-8')\n",
      "C:\\Users\\tua0\\AppData\\Local\\Temp\\1\\ipykernel_11400\\2828048442.py:1: PerformanceWarning: DataFrame is highly fragmented.  This is usually the result of calling `frame.insert` many times, which has poor performance.  Consider joining all columns at once using pd.concat(axis=1) instead. To get a de-fragmented frame, use `newframe = frame.copy()`\n",
      "  df = pd.read_sas('LLCP2021.XPT',encoding = 'UTF-8')\n",
      "C:\\Users\\tua0\\AppData\\Local\\Temp\\1\\ipykernel_11400\\2828048442.py:1: PerformanceWarning: DataFrame is highly fragmented.  This is usually the result of calling `frame.insert` many times, which has poor performance.  Consider joining all columns at once using pd.concat(axis=1) instead. To get a de-fragmented frame, use `newframe = frame.copy()`\n",
      "  df = pd.read_sas('LLCP2021.XPT',encoding = 'UTF-8')\n",
      "C:\\Users\\tua0\\AppData\\Local\\Temp\\1\\ipykernel_11400\\2828048442.py:1: PerformanceWarning: DataFrame is highly fragmented.  This is usually the result of calling `frame.insert` many times, which has poor performance.  Consider joining all columns at once using pd.concat(axis=1) instead. To get a de-fragmented frame, use `newframe = frame.copy()`\n",
      "  df = pd.read_sas('LLCP2021.XPT',encoding = 'UTF-8')\n",
      "C:\\Users\\tua0\\AppData\\Local\\Temp\\1\\ipykernel_11400\\2828048442.py:1: PerformanceWarning: DataFrame is highly fragmented.  This is usually the result of calling `frame.insert` many times, which has poor performance.  Consider joining all columns at once using pd.concat(axis=1) instead. To get a de-fragmented frame, use `newframe = frame.copy()`\n",
      "  df = pd.read_sas('LLCP2021.XPT',encoding = 'UTF-8')\n",
      "C:\\Users\\tua0\\AppData\\Local\\Temp\\1\\ipykernel_11400\\2828048442.py:1: PerformanceWarning: DataFrame is highly fragmented.  This is usually the result of calling `frame.insert` many times, which has poor performance.  Consider joining all columns at once using pd.concat(axis=1) instead. To get a de-fragmented frame, use `newframe = frame.copy()`\n",
      "  df = pd.read_sas('LLCP2021.XPT',encoding = 'UTF-8')\n",
      "C:\\Users\\tua0\\AppData\\Local\\Temp\\1\\ipykernel_11400\\2828048442.py:1: PerformanceWarning: DataFrame is highly fragmented.  This is usually the result of calling `frame.insert` many times, which has poor performance.  Consider joining all columns at once using pd.concat(axis=1) instead. To get a de-fragmented frame, use `newframe = frame.copy()`\n",
      "  df = pd.read_sas('LLCP2021.XPT',encoding = 'UTF-8')\n",
      "C:\\Users\\tua0\\AppData\\Local\\Temp\\1\\ipykernel_11400\\2828048442.py:1: PerformanceWarning: DataFrame is highly fragmented.  This is usually the result of calling `frame.insert` many times, which has poor performance.  Consider joining all columns at once using pd.concat(axis=1) instead. To get a de-fragmented frame, use `newframe = frame.copy()`\n",
      "  df = pd.read_sas('LLCP2021.XPT',encoding = 'UTF-8')\n",
      "C:\\Users\\tua0\\AppData\\Local\\Temp\\1\\ipykernel_11400\\2828048442.py:1: PerformanceWarning: DataFrame is highly fragmented.  This is usually the result of calling `frame.insert` many times, which has poor performance.  Consider joining all columns at once using pd.concat(axis=1) instead. To get a de-fragmented frame, use `newframe = frame.copy()`\n",
      "  df = pd.read_sas('LLCP2021.XPT',encoding = 'UTF-8')\n"
     ]
    },
    {
     "name": "stderr",
     "output_type": "stream",
     "text": [
      "C:\\Users\\tua0\\AppData\\Local\\Temp\\1\\ipykernel_11400\\2828048442.py:1: PerformanceWarning: DataFrame is highly fragmented.  This is usually the result of calling `frame.insert` many times, which has poor performance.  Consider joining all columns at once using pd.concat(axis=1) instead. To get a de-fragmented frame, use `newframe = frame.copy()`\n",
      "  df = pd.read_sas('LLCP2021.XPT',encoding = 'UTF-8')\n",
      "C:\\Users\\tua0\\AppData\\Local\\Temp\\1\\ipykernel_11400\\2828048442.py:1: PerformanceWarning: DataFrame is highly fragmented.  This is usually the result of calling `frame.insert` many times, which has poor performance.  Consider joining all columns at once using pd.concat(axis=1) instead. To get a de-fragmented frame, use `newframe = frame.copy()`\n",
      "  df = pd.read_sas('LLCP2021.XPT',encoding = 'UTF-8')\n",
      "C:\\Users\\tua0\\AppData\\Local\\Temp\\1\\ipykernel_11400\\2828048442.py:1: PerformanceWarning: DataFrame is highly fragmented.  This is usually the result of calling `frame.insert` many times, which has poor performance.  Consider joining all columns at once using pd.concat(axis=1) instead. To get a de-fragmented frame, use `newframe = frame.copy()`\n",
      "  df = pd.read_sas('LLCP2021.XPT',encoding = 'UTF-8')\n",
      "C:\\Users\\tua0\\AppData\\Local\\Temp\\1\\ipykernel_11400\\2828048442.py:1: PerformanceWarning: DataFrame is highly fragmented.  This is usually the result of calling `frame.insert` many times, which has poor performance.  Consider joining all columns at once using pd.concat(axis=1) instead. To get a de-fragmented frame, use `newframe = frame.copy()`\n",
      "  df = pd.read_sas('LLCP2021.XPT',encoding = 'UTF-8')\n",
      "C:\\Users\\tua0\\AppData\\Local\\Temp\\1\\ipykernel_11400\\2828048442.py:1: PerformanceWarning: DataFrame is highly fragmented.  This is usually the result of calling `frame.insert` many times, which has poor performance.  Consider joining all columns at once using pd.concat(axis=1) instead. To get a de-fragmented frame, use `newframe = frame.copy()`\n",
      "  df = pd.read_sas('LLCP2021.XPT',encoding = 'UTF-8')\n",
      "C:\\Users\\tua0\\AppData\\Local\\Temp\\1\\ipykernel_11400\\2828048442.py:1: PerformanceWarning: DataFrame is highly fragmented.  This is usually the result of calling `frame.insert` many times, which has poor performance.  Consider joining all columns at once using pd.concat(axis=1) instead. To get a de-fragmented frame, use `newframe = frame.copy()`\n",
      "  df = pd.read_sas('LLCP2021.XPT',encoding = 'UTF-8')\n",
      "C:\\Users\\tua0\\AppData\\Local\\Temp\\1\\ipykernel_11400\\2828048442.py:1: PerformanceWarning: DataFrame is highly fragmented.  This is usually the result of calling `frame.insert` many times, which has poor performance.  Consider joining all columns at once using pd.concat(axis=1) instead. To get a de-fragmented frame, use `newframe = frame.copy()`\n",
      "  df = pd.read_sas('LLCP2021.XPT',encoding = 'UTF-8')\n",
      "C:\\Users\\tua0\\AppData\\Local\\Temp\\1\\ipykernel_11400\\2828048442.py:1: PerformanceWarning: DataFrame is highly fragmented.  This is usually the result of calling `frame.insert` many times, which has poor performance.  Consider joining all columns at once using pd.concat(axis=1) instead. To get a de-fragmented frame, use `newframe = frame.copy()`\n",
      "  df = pd.read_sas('LLCP2021.XPT',encoding = 'UTF-8')\n",
      "C:\\Users\\tua0\\AppData\\Local\\Temp\\1\\ipykernel_11400\\2828048442.py:1: PerformanceWarning: DataFrame is highly fragmented.  This is usually the result of calling `frame.insert` many times, which has poor performance.  Consider joining all columns at once using pd.concat(axis=1) instead. To get a de-fragmented frame, use `newframe = frame.copy()`\n",
      "  df = pd.read_sas('LLCP2021.XPT',encoding = 'UTF-8')\n",
      "C:\\Users\\tua0\\AppData\\Local\\Temp\\1\\ipykernel_11400\\2828048442.py:1: PerformanceWarning: DataFrame is highly fragmented.  This is usually the result of calling `frame.insert` many times, which has poor performance.  Consider joining all columns at once using pd.concat(axis=1) instead. To get a de-fragmented frame, use `newframe = frame.copy()`\n",
      "  df = pd.read_sas('LLCP2021.XPT',encoding = 'UTF-8')\n",
      "C:\\Users\\tua0\\AppData\\Local\\Temp\\1\\ipykernel_11400\\2828048442.py:1: PerformanceWarning: DataFrame is highly fragmented.  This is usually the result of calling `frame.insert` many times, which has poor performance.  Consider joining all columns at once using pd.concat(axis=1) instead. To get a de-fragmented frame, use `newframe = frame.copy()`\n",
      "  df = pd.read_sas('LLCP2021.XPT',encoding = 'UTF-8')\n",
      "C:\\Users\\tua0\\AppData\\Local\\Temp\\1\\ipykernel_11400\\2828048442.py:1: PerformanceWarning: DataFrame is highly fragmented.  This is usually the result of calling `frame.insert` many times, which has poor performance.  Consider joining all columns at once using pd.concat(axis=1) instead. To get a de-fragmented frame, use `newframe = frame.copy()`\n",
      "  df = pd.read_sas('LLCP2021.XPT',encoding = 'UTF-8')\n",
      "C:\\Users\\tua0\\AppData\\Local\\Temp\\1\\ipykernel_11400\\2828048442.py:1: PerformanceWarning: DataFrame is highly fragmented.  This is usually the result of calling `frame.insert` many times, which has poor performance.  Consider joining all columns at once using pd.concat(axis=1) instead. To get a de-fragmented frame, use `newframe = frame.copy()`\n",
      "  df = pd.read_sas('LLCP2021.XPT',encoding = 'UTF-8')\n",
      "C:\\Users\\tua0\\AppData\\Local\\Temp\\1\\ipykernel_11400\\2828048442.py:1: PerformanceWarning: DataFrame is highly fragmented.  This is usually the result of calling `frame.insert` many times, which has poor performance.  Consider joining all columns at once using pd.concat(axis=1) instead. To get a de-fragmented frame, use `newframe = frame.copy()`\n",
      "  df = pd.read_sas('LLCP2021.XPT',encoding = 'UTF-8')\n",
      "C:\\Users\\tua0\\AppData\\Local\\Temp\\1\\ipykernel_11400\\2828048442.py:1: PerformanceWarning: DataFrame is highly fragmented.  This is usually the result of calling `frame.insert` many times, which has poor performance.  Consider joining all columns at once using pd.concat(axis=1) instead. To get a de-fragmented frame, use `newframe = frame.copy()`\n",
      "  df = pd.read_sas('LLCP2021.XPT',encoding = 'UTF-8')\n",
      "C:\\Users\\tua0\\AppData\\Local\\Temp\\1\\ipykernel_11400\\2828048442.py:1: PerformanceWarning: DataFrame is highly fragmented.  This is usually the result of calling `frame.insert` many times, which has poor performance.  Consider joining all columns at once using pd.concat(axis=1) instead. To get a de-fragmented frame, use `newframe = frame.copy()`\n",
      "  df = pd.read_sas('LLCP2021.XPT',encoding = 'UTF-8')\n",
      "C:\\Users\\tua0\\AppData\\Local\\Temp\\1\\ipykernel_11400\\2828048442.py:1: PerformanceWarning: DataFrame is highly fragmented.  This is usually the result of calling `frame.insert` many times, which has poor performance.  Consider joining all columns at once using pd.concat(axis=1) instead. To get a de-fragmented frame, use `newframe = frame.copy()`\n",
      "  df = pd.read_sas('LLCP2021.XPT',encoding = 'UTF-8')\n",
      "C:\\Users\\tua0\\AppData\\Local\\Temp\\1\\ipykernel_11400\\2828048442.py:1: PerformanceWarning: DataFrame is highly fragmented.  This is usually the result of calling `frame.insert` many times, which has poor performance.  Consider joining all columns at once using pd.concat(axis=1) instead. To get a de-fragmented frame, use `newframe = frame.copy()`\n",
      "  df = pd.read_sas('LLCP2021.XPT',encoding = 'UTF-8')\n",
      "C:\\Users\\tua0\\AppData\\Local\\Temp\\1\\ipykernel_11400\\2828048442.py:1: PerformanceWarning: DataFrame is highly fragmented.  This is usually the result of calling `frame.insert` many times, which has poor performance.  Consider joining all columns at once using pd.concat(axis=1) instead. To get a de-fragmented frame, use `newframe = frame.copy()`\n",
      "  df = pd.read_sas('LLCP2021.XPT',encoding = 'UTF-8')\n",
      "C:\\Users\\tua0\\AppData\\Local\\Temp\\1\\ipykernel_11400\\2828048442.py:1: PerformanceWarning: DataFrame is highly fragmented.  This is usually the result of calling `frame.insert` many times, which has poor performance.  Consider joining all columns at once using pd.concat(axis=1) instead. To get a de-fragmented frame, use `newframe = frame.copy()`\n",
      "  df = pd.read_sas('LLCP2021.XPT',encoding = 'UTF-8')\n",
      "C:\\Users\\tua0\\AppData\\Local\\Temp\\1\\ipykernel_11400\\2828048442.py:1: PerformanceWarning: DataFrame is highly fragmented.  This is usually the result of calling `frame.insert` many times, which has poor performance.  Consider joining all columns at once using pd.concat(axis=1) instead. To get a de-fragmented frame, use `newframe = frame.copy()`\n",
      "  df = pd.read_sas('LLCP2021.XPT',encoding = 'UTF-8')\n",
      "C:\\Users\\tua0\\AppData\\Local\\Temp\\1\\ipykernel_11400\\2828048442.py:1: PerformanceWarning: DataFrame is highly fragmented.  This is usually the result of calling `frame.insert` many times, which has poor performance.  Consider joining all columns at once using pd.concat(axis=1) instead. To get a de-fragmented frame, use `newframe = frame.copy()`\n",
      "  df = pd.read_sas('LLCP2021.XPT',encoding = 'UTF-8')\n"
     ]
    },
    {
     "name": "stderr",
     "output_type": "stream",
     "text": [
      "C:\\Users\\tua0\\AppData\\Local\\Temp\\1\\ipykernel_11400\\2828048442.py:1: PerformanceWarning: DataFrame is highly fragmented.  This is usually the result of calling `frame.insert` many times, which has poor performance.  Consider joining all columns at once using pd.concat(axis=1) instead. To get a de-fragmented frame, use `newframe = frame.copy()`\n",
      "  df = pd.read_sas('LLCP2021.XPT',encoding = 'UTF-8')\n",
      "C:\\Users\\tua0\\AppData\\Local\\Temp\\1\\ipykernel_11400\\2828048442.py:1: PerformanceWarning: DataFrame is highly fragmented.  This is usually the result of calling `frame.insert` many times, which has poor performance.  Consider joining all columns at once using pd.concat(axis=1) instead. To get a de-fragmented frame, use `newframe = frame.copy()`\n",
      "  df = pd.read_sas('LLCP2021.XPT',encoding = 'UTF-8')\n",
      "C:\\Users\\tua0\\AppData\\Local\\Temp\\1\\ipykernel_11400\\2828048442.py:1: PerformanceWarning: DataFrame is highly fragmented.  This is usually the result of calling `frame.insert` many times, which has poor performance.  Consider joining all columns at once using pd.concat(axis=1) instead. To get a de-fragmented frame, use `newframe = frame.copy()`\n",
      "  df = pd.read_sas('LLCP2021.XPT',encoding = 'UTF-8')\n",
      "C:\\Users\\tua0\\AppData\\Local\\Temp\\1\\ipykernel_11400\\2828048442.py:1: PerformanceWarning: DataFrame is highly fragmented.  This is usually the result of calling `frame.insert` many times, which has poor performance.  Consider joining all columns at once using pd.concat(axis=1) instead. To get a de-fragmented frame, use `newframe = frame.copy()`\n",
      "  df = pd.read_sas('LLCP2021.XPT',encoding = 'UTF-8')\n",
      "C:\\Users\\tua0\\AppData\\Local\\Temp\\1\\ipykernel_11400\\2828048442.py:1: PerformanceWarning: DataFrame is highly fragmented.  This is usually the result of calling `frame.insert` many times, which has poor performance.  Consider joining all columns at once using pd.concat(axis=1) instead. To get a de-fragmented frame, use `newframe = frame.copy()`\n",
      "  df = pd.read_sas('LLCP2021.XPT',encoding = 'UTF-8')\n",
      "C:\\Users\\tua0\\AppData\\Local\\Temp\\1\\ipykernel_11400\\2828048442.py:1: PerformanceWarning: DataFrame is highly fragmented.  This is usually the result of calling `frame.insert` many times, which has poor performance.  Consider joining all columns at once using pd.concat(axis=1) instead. To get a de-fragmented frame, use `newframe = frame.copy()`\n",
      "  df = pd.read_sas('LLCP2021.XPT',encoding = 'UTF-8')\n",
      "C:\\Users\\tua0\\AppData\\Local\\Temp\\1\\ipykernel_11400\\2828048442.py:1: PerformanceWarning: DataFrame is highly fragmented.  This is usually the result of calling `frame.insert` many times, which has poor performance.  Consider joining all columns at once using pd.concat(axis=1) instead. To get a de-fragmented frame, use `newframe = frame.copy()`\n",
      "  df = pd.read_sas('LLCP2021.XPT',encoding = 'UTF-8')\n",
      "C:\\Users\\tua0\\AppData\\Local\\Temp\\1\\ipykernel_11400\\2828048442.py:1: PerformanceWarning: DataFrame is highly fragmented.  This is usually the result of calling `frame.insert` many times, which has poor performance.  Consider joining all columns at once using pd.concat(axis=1) instead. To get a de-fragmented frame, use `newframe = frame.copy()`\n",
      "  df = pd.read_sas('LLCP2021.XPT',encoding = 'UTF-8')\n",
      "C:\\Users\\tua0\\AppData\\Local\\Temp\\1\\ipykernel_11400\\2828048442.py:1: PerformanceWarning: DataFrame is highly fragmented.  This is usually the result of calling `frame.insert` many times, which has poor performance.  Consider joining all columns at once using pd.concat(axis=1) instead. To get a de-fragmented frame, use `newframe = frame.copy()`\n",
      "  df = pd.read_sas('LLCP2021.XPT',encoding = 'UTF-8')\n",
      "C:\\Users\\tua0\\AppData\\Local\\Temp\\1\\ipykernel_11400\\2828048442.py:1: PerformanceWarning: DataFrame is highly fragmented.  This is usually the result of calling `frame.insert` many times, which has poor performance.  Consider joining all columns at once using pd.concat(axis=1) instead. To get a de-fragmented frame, use `newframe = frame.copy()`\n",
      "  df = pd.read_sas('LLCP2021.XPT',encoding = 'UTF-8')\n",
      "C:\\Users\\tua0\\AppData\\Local\\Temp\\1\\ipykernel_11400\\2828048442.py:1: PerformanceWarning: DataFrame is highly fragmented.  This is usually the result of calling `frame.insert` many times, which has poor performance.  Consider joining all columns at once using pd.concat(axis=1) instead. To get a de-fragmented frame, use `newframe = frame.copy()`\n",
      "  df = pd.read_sas('LLCP2021.XPT',encoding = 'UTF-8')\n",
      "C:\\Users\\tua0\\AppData\\Local\\Temp\\1\\ipykernel_11400\\2828048442.py:1: PerformanceWarning: DataFrame is highly fragmented.  This is usually the result of calling `frame.insert` many times, which has poor performance.  Consider joining all columns at once using pd.concat(axis=1) instead. To get a de-fragmented frame, use `newframe = frame.copy()`\n",
      "  df = pd.read_sas('LLCP2021.XPT',encoding = 'UTF-8')\n",
      "C:\\Users\\tua0\\AppData\\Local\\Temp\\1\\ipykernel_11400\\2828048442.py:1: PerformanceWarning: DataFrame is highly fragmented.  This is usually the result of calling `frame.insert` many times, which has poor performance.  Consider joining all columns at once using pd.concat(axis=1) instead. To get a de-fragmented frame, use `newframe = frame.copy()`\n",
      "  df = pd.read_sas('LLCP2021.XPT',encoding = 'UTF-8')\n",
      "C:\\Users\\tua0\\AppData\\Local\\Temp\\1\\ipykernel_11400\\2828048442.py:1: PerformanceWarning: DataFrame is highly fragmented.  This is usually the result of calling `frame.insert` many times, which has poor performance.  Consider joining all columns at once using pd.concat(axis=1) instead. To get a de-fragmented frame, use `newframe = frame.copy()`\n",
      "  df = pd.read_sas('LLCP2021.XPT',encoding = 'UTF-8')\n",
      "C:\\Users\\tua0\\AppData\\Local\\Temp\\1\\ipykernel_11400\\2828048442.py:1: PerformanceWarning: DataFrame is highly fragmented.  This is usually the result of calling `frame.insert` many times, which has poor performance.  Consider joining all columns at once using pd.concat(axis=1) instead. To get a de-fragmented frame, use `newframe = frame.copy()`\n",
      "  df = pd.read_sas('LLCP2021.XPT',encoding = 'UTF-8')\n",
      "C:\\Users\\tua0\\AppData\\Local\\Temp\\1\\ipykernel_11400\\2828048442.py:1: PerformanceWarning: DataFrame is highly fragmented.  This is usually the result of calling `frame.insert` many times, which has poor performance.  Consider joining all columns at once using pd.concat(axis=1) instead. To get a de-fragmented frame, use `newframe = frame.copy()`\n",
      "  df = pd.read_sas('LLCP2021.XPT',encoding = 'UTF-8')\n",
      "C:\\Users\\tua0\\AppData\\Local\\Temp\\1\\ipykernel_11400\\2828048442.py:1: PerformanceWarning: DataFrame is highly fragmented.  This is usually the result of calling `frame.insert` many times, which has poor performance.  Consider joining all columns at once using pd.concat(axis=1) instead. To get a de-fragmented frame, use `newframe = frame.copy()`\n",
      "  df = pd.read_sas('LLCP2021.XPT',encoding = 'UTF-8')\n",
      "C:\\Users\\tua0\\AppData\\Local\\Temp\\1\\ipykernel_11400\\2828048442.py:1: PerformanceWarning: DataFrame is highly fragmented.  This is usually the result of calling `frame.insert` many times, which has poor performance.  Consider joining all columns at once using pd.concat(axis=1) instead. To get a de-fragmented frame, use `newframe = frame.copy()`\n",
      "  df = pd.read_sas('LLCP2021.XPT',encoding = 'UTF-8')\n",
      "C:\\Users\\tua0\\AppData\\Local\\Temp\\1\\ipykernel_11400\\2828048442.py:1: PerformanceWarning: DataFrame is highly fragmented.  This is usually the result of calling `frame.insert` many times, which has poor performance.  Consider joining all columns at once using pd.concat(axis=1) instead. To get a de-fragmented frame, use `newframe = frame.copy()`\n",
      "  df = pd.read_sas('LLCP2021.XPT',encoding = 'UTF-8')\n",
      "C:\\Users\\tua0\\AppData\\Local\\Temp\\1\\ipykernel_11400\\2828048442.py:1: PerformanceWarning: DataFrame is highly fragmented.  This is usually the result of calling `frame.insert` many times, which has poor performance.  Consider joining all columns at once using pd.concat(axis=1) instead. To get a de-fragmented frame, use `newframe = frame.copy()`\n",
      "  df = pd.read_sas('LLCP2021.XPT',encoding = 'UTF-8')\n",
      "C:\\Users\\tua0\\AppData\\Local\\Temp\\1\\ipykernel_11400\\2828048442.py:1: PerformanceWarning: DataFrame is highly fragmented.  This is usually the result of calling `frame.insert` many times, which has poor performance.  Consider joining all columns at once using pd.concat(axis=1) instead. To get a de-fragmented frame, use `newframe = frame.copy()`\n",
      "  df = pd.read_sas('LLCP2021.XPT',encoding = 'UTF-8')\n",
      "C:\\Users\\tua0\\AppData\\Local\\Temp\\1\\ipykernel_11400\\2828048442.py:1: PerformanceWarning: DataFrame is highly fragmented.  This is usually the result of calling `frame.insert` many times, which has poor performance.  Consider joining all columns at once using pd.concat(axis=1) instead. To get a de-fragmented frame, use `newframe = frame.copy()`\n",
      "  df = pd.read_sas('LLCP2021.XPT',encoding = 'UTF-8')\n",
      "C:\\Users\\tua0\\AppData\\Local\\Temp\\1\\ipykernel_11400\\2828048442.py:1: PerformanceWarning: DataFrame is highly fragmented.  This is usually the result of calling `frame.insert` many times, which has poor performance.  Consider joining all columns at once using pd.concat(axis=1) instead. To get a de-fragmented frame, use `newframe = frame.copy()`\n",
      "  df = pd.read_sas('LLCP2021.XPT',encoding = 'UTF-8')\n"
     ]
    },
    {
     "name": "stderr",
     "output_type": "stream",
     "text": [
      "C:\\Users\\tua0\\AppData\\Local\\Temp\\1\\ipykernel_11400\\2828048442.py:1: PerformanceWarning: DataFrame is highly fragmented.  This is usually the result of calling `frame.insert` many times, which has poor performance.  Consider joining all columns at once using pd.concat(axis=1) instead. To get a de-fragmented frame, use `newframe = frame.copy()`\n",
      "  df = pd.read_sas('LLCP2021.XPT',encoding = 'UTF-8')\n",
      "C:\\Users\\tua0\\AppData\\Local\\Temp\\1\\ipykernel_11400\\2828048442.py:1: PerformanceWarning: DataFrame is highly fragmented.  This is usually the result of calling `frame.insert` many times, which has poor performance.  Consider joining all columns at once using pd.concat(axis=1) instead. To get a de-fragmented frame, use `newframe = frame.copy()`\n",
      "  df = pd.read_sas('LLCP2021.XPT',encoding = 'UTF-8')\n",
      "C:\\Users\\tua0\\AppData\\Local\\Temp\\1\\ipykernel_11400\\2828048442.py:1: PerformanceWarning: DataFrame is highly fragmented.  This is usually the result of calling `frame.insert` many times, which has poor performance.  Consider joining all columns at once using pd.concat(axis=1) instead. To get a de-fragmented frame, use `newframe = frame.copy()`\n",
      "  df = pd.read_sas('LLCP2021.XPT',encoding = 'UTF-8')\n",
      "C:\\Users\\tua0\\AppData\\Local\\Temp\\1\\ipykernel_11400\\2828048442.py:1: PerformanceWarning: DataFrame is highly fragmented.  This is usually the result of calling `frame.insert` many times, which has poor performance.  Consider joining all columns at once using pd.concat(axis=1) instead. To get a de-fragmented frame, use `newframe = frame.copy()`\n",
      "  df = pd.read_sas('LLCP2021.XPT',encoding = 'UTF-8')\n",
      "C:\\Users\\tua0\\AppData\\Local\\Temp\\1\\ipykernel_11400\\2828048442.py:1: PerformanceWarning: DataFrame is highly fragmented.  This is usually the result of calling `frame.insert` many times, which has poor performance.  Consider joining all columns at once using pd.concat(axis=1) instead. To get a de-fragmented frame, use `newframe = frame.copy()`\n",
      "  df = pd.read_sas('LLCP2021.XPT',encoding = 'UTF-8')\n",
      "C:\\Users\\tua0\\AppData\\Local\\Temp\\1\\ipykernel_11400\\2828048442.py:1: PerformanceWarning: DataFrame is highly fragmented.  This is usually the result of calling `frame.insert` many times, which has poor performance.  Consider joining all columns at once using pd.concat(axis=1) instead. To get a de-fragmented frame, use `newframe = frame.copy()`\n",
      "  df = pd.read_sas('LLCP2021.XPT',encoding = 'UTF-8')\n",
      "C:\\Users\\tua0\\AppData\\Local\\Temp\\1\\ipykernel_11400\\2828048442.py:1: PerformanceWarning: DataFrame is highly fragmented.  This is usually the result of calling `frame.insert` many times, which has poor performance.  Consider joining all columns at once using pd.concat(axis=1) instead. To get a de-fragmented frame, use `newframe = frame.copy()`\n",
      "  df = pd.read_sas('LLCP2021.XPT',encoding = 'UTF-8')\n",
      "C:\\Users\\tua0\\AppData\\Local\\Temp\\1\\ipykernel_11400\\2828048442.py:1: PerformanceWarning: DataFrame is highly fragmented.  This is usually the result of calling `frame.insert` many times, which has poor performance.  Consider joining all columns at once using pd.concat(axis=1) instead. To get a de-fragmented frame, use `newframe = frame.copy()`\n",
      "  df = pd.read_sas('LLCP2021.XPT',encoding = 'UTF-8')\n",
      "C:\\Users\\tua0\\AppData\\Local\\Temp\\1\\ipykernel_11400\\2828048442.py:1: PerformanceWarning: DataFrame is highly fragmented.  This is usually the result of calling `frame.insert` many times, which has poor performance.  Consider joining all columns at once using pd.concat(axis=1) instead. To get a de-fragmented frame, use `newframe = frame.copy()`\n",
      "  df = pd.read_sas('LLCP2021.XPT',encoding = 'UTF-8')\n",
      "C:\\Users\\tua0\\AppData\\Local\\Temp\\1\\ipykernel_11400\\2828048442.py:1: PerformanceWarning: DataFrame is highly fragmented.  This is usually the result of calling `frame.insert` many times, which has poor performance.  Consider joining all columns at once using pd.concat(axis=1) instead. To get a de-fragmented frame, use `newframe = frame.copy()`\n",
      "  df = pd.read_sas('LLCP2021.XPT',encoding = 'UTF-8')\n",
      "C:\\Users\\tua0\\AppData\\Local\\Temp\\1\\ipykernel_11400\\2828048442.py:1: PerformanceWarning: DataFrame is highly fragmented.  This is usually the result of calling `frame.insert` many times, which has poor performance.  Consider joining all columns at once using pd.concat(axis=1) instead. To get a de-fragmented frame, use `newframe = frame.copy()`\n",
      "  df = pd.read_sas('LLCP2021.XPT',encoding = 'UTF-8')\n",
      "C:\\Users\\tua0\\AppData\\Local\\Temp\\1\\ipykernel_11400\\2828048442.py:1: PerformanceWarning: DataFrame is highly fragmented.  This is usually the result of calling `frame.insert` many times, which has poor performance.  Consider joining all columns at once using pd.concat(axis=1) instead. To get a de-fragmented frame, use `newframe = frame.copy()`\n",
      "  df = pd.read_sas('LLCP2021.XPT',encoding = 'UTF-8')\n",
      "C:\\Users\\tua0\\AppData\\Local\\Temp\\1\\ipykernel_11400\\2828048442.py:1: PerformanceWarning: DataFrame is highly fragmented.  This is usually the result of calling `frame.insert` many times, which has poor performance.  Consider joining all columns at once using pd.concat(axis=1) instead. To get a de-fragmented frame, use `newframe = frame.copy()`\n",
      "  df = pd.read_sas('LLCP2021.XPT',encoding = 'UTF-8')\n",
      "C:\\Users\\tua0\\AppData\\Local\\Temp\\1\\ipykernel_11400\\2828048442.py:1: PerformanceWarning: DataFrame is highly fragmented.  This is usually the result of calling `frame.insert` many times, which has poor performance.  Consider joining all columns at once using pd.concat(axis=1) instead. To get a de-fragmented frame, use `newframe = frame.copy()`\n",
      "  df = pd.read_sas('LLCP2021.XPT',encoding = 'UTF-8')\n",
      "C:\\Users\\tua0\\AppData\\Local\\Temp\\1\\ipykernel_11400\\2828048442.py:1: PerformanceWarning: DataFrame is highly fragmented.  This is usually the result of calling `frame.insert` many times, which has poor performance.  Consider joining all columns at once using pd.concat(axis=1) instead. To get a de-fragmented frame, use `newframe = frame.copy()`\n",
      "  df = pd.read_sas('LLCP2021.XPT',encoding = 'UTF-8')\n",
      "C:\\Users\\tua0\\AppData\\Local\\Temp\\1\\ipykernel_11400\\2828048442.py:1: PerformanceWarning: DataFrame is highly fragmented.  This is usually the result of calling `frame.insert` many times, which has poor performance.  Consider joining all columns at once using pd.concat(axis=1) instead. To get a de-fragmented frame, use `newframe = frame.copy()`\n",
      "  df = pd.read_sas('LLCP2021.XPT',encoding = 'UTF-8')\n",
      "C:\\Users\\tua0\\AppData\\Local\\Temp\\1\\ipykernel_11400\\2828048442.py:1: PerformanceWarning: DataFrame is highly fragmented.  This is usually the result of calling `frame.insert` many times, which has poor performance.  Consider joining all columns at once using pd.concat(axis=1) instead. To get a de-fragmented frame, use `newframe = frame.copy()`\n",
      "  df = pd.read_sas('LLCP2021.XPT',encoding = 'UTF-8')\n",
      "C:\\Users\\tua0\\AppData\\Local\\Temp\\1\\ipykernel_11400\\2828048442.py:1: PerformanceWarning: DataFrame is highly fragmented.  This is usually the result of calling `frame.insert` many times, which has poor performance.  Consider joining all columns at once using pd.concat(axis=1) instead. To get a de-fragmented frame, use `newframe = frame.copy()`\n",
      "  df = pd.read_sas('LLCP2021.XPT',encoding = 'UTF-8')\n",
      "C:\\Users\\tua0\\AppData\\Local\\Temp\\1\\ipykernel_11400\\2828048442.py:1: PerformanceWarning: DataFrame is highly fragmented.  This is usually the result of calling `frame.insert` many times, which has poor performance.  Consider joining all columns at once using pd.concat(axis=1) instead. To get a de-fragmented frame, use `newframe = frame.copy()`\n",
      "  df = pd.read_sas('LLCP2021.XPT',encoding = 'UTF-8')\n",
      "C:\\Users\\tua0\\AppData\\Local\\Temp\\1\\ipykernel_11400\\2828048442.py:1: PerformanceWarning: DataFrame is highly fragmented.  This is usually the result of calling `frame.insert` many times, which has poor performance.  Consider joining all columns at once using pd.concat(axis=1) instead. To get a de-fragmented frame, use `newframe = frame.copy()`\n",
      "  df = pd.read_sas('LLCP2021.XPT',encoding = 'UTF-8')\n",
      "C:\\Users\\tua0\\AppData\\Local\\Temp\\1\\ipykernel_11400\\2828048442.py:1: PerformanceWarning: DataFrame is highly fragmented.  This is usually the result of calling `frame.insert` many times, which has poor performance.  Consider joining all columns at once using pd.concat(axis=1) instead. To get a de-fragmented frame, use `newframe = frame.copy()`\n",
      "  df = pd.read_sas('LLCP2021.XPT',encoding = 'UTF-8')\n"
     ]
    },
    {
     "name": "stderr",
     "output_type": "stream",
     "text": [
      "C:\\Users\\tua0\\AppData\\Local\\Temp\\1\\ipykernel_11400\\2828048442.py:1: PerformanceWarning: DataFrame is highly fragmented.  This is usually the result of calling `frame.insert` many times, which has poor performance.  Consider joining all columns at once using pd.concat(axis=1) instead. To get a de-fragmented frame, use `newframe = frame.copy()`\n",
      "  df = pd.read_sas('LLCP2021.XPT',encoding = 'UTF-8')\n",
      "C:\\Users\\tua0\\AppData\\Local\\Temp\\1\\ipykernel_11400\\2828048442.py:1: PerformanceWarning: DataFrame is highly fragmented.  This is usually the result of calling `frame.insert` many times, which has poor performance.  Consider joining all columns at once using pd.concat(axis=1) instead. To get a de-fragmented frame, use `newframe = frame.copy()`\n",
      "  df = pd.read_sas('LLCP2021.XPT',encoding = 'UTF-8')\n",
      "C:\\Users\\tua0\\AppData\\Local\\Temp\\1\\ipykernel_11400\\2828048442.py:1: PerformanceWarning: DataFrame is highly fragmented.  This is usually the result of calling `frame.insert` many times, which has poor performance.  Consider joining all columns at once using pd.concat(axis=1) instead. To get a de-fragmented frame, use `newframe = frame.copy()`\n",
      "  df = pd.read_sas('LLCP2021.XPT',encoding = 'UTF-8')\n",
      "C:\\Users\\tua0\\AppData\\Local\\Temp\\1\\ipykernel_11400\\2828048442.py:1: PerformanceWarning: DataFrame is highly fragmented.  This is usually the result of calling `frame.insert` many times, which has poor performance.  Consider joining all columns at once using pd.concat(axis=1) instead. To get a de-fragmented frame, use `newframe = frame.copy()`\n",
      "  df = pd.read_sas('LLCP2021.XPT',encoding = 'UTF-8')\n",
      "C:\\Users\\tua0\\AppData\\Local\\Temp\\1\\ipykernel_11400\\2828048442.py:1: PerformanceWarning: DataFrame is highly fragmented.  This is usually the result of calling `frame.insert` many times, which has poor performance.  Consider joining all columns at once using pd.concat(axis=1) instead. To get a de-fragmented frame, use `newframe = frame.copy()`\n",
      "  df = pd.read_sas('LLCP2021.XPT',encoding = 'UTF-8')\n",
      "C:\\Users\\tua0\\AppData\\Local\\Temp\\1\\ipykernel_11400\\2828048442.py:1: PerformanceWarning: DataFrame is highly fragmented.  This is usually the result of calling `frame.insert` many times, which has poor performance.  Consider joining all columns at once using pd.concat(axis=1) instead. To get a de-fragmented frame, use `newframe = frame.copy()`\n",
      "  df = pd.read_sas('LLCP2021.XPT',encoding = 'UTF-8')\n",
      "C:\\Users\\tua0\\AppData\\Local\\Temp\\1\\ipykernel_11400\\2828048442.py:1: PerformanceWarning: DataFrame is highly fragmented.  This is usually the result of calling `frame.insert` many times, which has poor performance.  Consider joining all columns at once using pd.concat(axis=1) instead. To get a de-fragmented frame, use `newframe = frame.copy()`\n",
      "  df = pd.read_sas('LLCP2021.XPT',encoding = 'UTF-8')\n",
      "C:\\Users\\tua0\\AppData\\Local\\Temp\\1\\ipykernel_11400\\2828048442.py:1: PerformanceWarning: DataFrame is highly fragmented.  This is usually the result of calling `frame.insert` many times, which has poor performance.  Consider joining all columns at once using pd.concat(axis=1) instead. To get a de-fragmented frame, use `newframe = frame.copy()`\n",
      "  df = pd.read_sas('LLCP2021.XPT',encoding = 'UTF-8')\n",
      "C:\\Users\\tua0\\AppData\\Local\\Temp\\1\\ipykernel_11400\\2828048442.py:1: PerformanceWarning: DataFrame is highly fragmented.  This is usually the result of calling `frame.insert` many times, which has poor performance.  Consider joining all columns at once using pd.concat(axis=1) instead. To get a de-fragmented frame, use `newframe = frame.copy()`\n",
      "  df = pd.read_sas('LLCP2021.XPT',encoding = 'UTF-8')\n",
      "C:\\Users\\tua0\\AppData\\Local\\Temp\\1\\ipykernel_11400\\2828048442.py:1: PerformanceWarning: DataFrame is highly fragmented.  This is usually the result of calling `frame.insert` many times, which has poor performance.  Consider joining all columns at once using pd.concat(axis=1) instead. To get a de-fragmented frame, use `newframe = frame.copy()`\n",
      "  df = pd.read_sas('LLCP2021.XPT',encoding = 'UTF-8')\n",
      "C:\\Users\\tua0\\AppData\\Local\\Temp\\1\\ipykernel_11400\\2828048442.py:1: PerformanceWarning: DataFrame is highly fragmented.  This is usually the result of calling `frame.insert` many times, which has poor performance.  Consider joining all columns at once using pd.concat(axis=1) instead. To get a de-fragmented frame, use `newframe = frame.copy()`\n",
      "  df = pd.read_sas('LLCP2021.XPT',encoding = 'UTF-8')\n",
      "C:\\Users\\tua0\\AppData\\Local\\Temp\\1\\ipykernel_11400\\2828048442.py:1: PerformanceWarning: DataFrame is highly fragmented.  This is usually the result of calling `frame.insert` many times, which has poor performance.  Consider joining all columns at once using pd.concat(axis=1) instead. To get a de-fragmented frame, use `newframe = frame.copy()`\n",
      "  df = pd.read_sas('LLCP2021.XPT',encoding = 'UTF-8')\n",
      "C:\\Users\\tua0\\AppData\\Local\\Temp\\1\\ipykernel_11400\\2828048442.py:1: PerformanceWarning: DataFrame is highly fragmented.  This is usually the result of calling `frame.insert` many times, which has poor performance.  Consider joining all columns at once using pd.concat(axis=1) instead. To get a de-fragmented frame, use `newframe = frame.copy()`\n",
      "  df = pd.read_sas('LLCP2021.XPT',encoding = 'UTF-8')\n",
      "C:\\Users\\tua0\\AppData\\Local\\Temp\\1\\ipykernel_11400\\2828048442.py:1: PerformanceWarning: DataFrame is highly fragmented.  This is usually the result of calling `frame.insert` many times, which has poor performance.  Consider joining all columns at once using pd.concat(axis=1) instead. To get a de-fragmented frame, use `newframe = frame.copy()`\n",
      "  df = pd.read_sas('LLCP2021.XPT',encoding = 'UTF-8')\n",
      "C:\\Users\\tua0\\AppData\\Local\\Temp\\1\\ipykernel_11400\\2828048442.py:1: PerformanceWarning: DataFrame is highly fragmented.  This is usually the result of calling `frame.insert` many times, which has poor performance.  Consider joining all columns at once using pd.concat(axis=1) instead. To get a de-fragmented frame, use `newframe = frame.copy()`\n",
      "  df = pd.read_sas('LLCP2021.XPT',encoding = 'UTF-8')\n",
      "C:\\Users\\tua0\\AppData\\Local\\Temp\\1\\ipykernel_11400\\2828048442.py:1: PerformanceWarning: DataFrame is highly fragmented.  This is usually the result of calling `frame.insert` many times, which has poor performance.  Consider joining all columns at once using pd.concat(axis=1) instead. To get a de-fragmented frame, use `newframe = frame.copy()`\n",
      "  df = pd.read_sas('LLCP2021.XPT',encoding = 'UTF-8')\n",
      "C:\\Users\\tua0\\AppData\\Local\\Temp\\1\\ipykernel_11400\\2828048442.py:1: PerformanceWarning: DataFrame is highly fragmented.  This is usually the result of calling `frame.insert` many times, which has poor performance.  Consider joining all columns at once using pd.concat(axis=1) instead. To get a de-fragmented frame, use `newframe = frame.copy()`\n",
      "  df = pd.read_sas('LLCP2021.XPT',encoding = 'UTF-8')\n",
      "C:\\Users\\tua0\\AppData\\Local\\Temp\\1\\ipykernel_11400\\2828048442.py:1: PerformanceWarning: DataFrame is highly fragmented.  This is usually the result of calling `frame.insert` many times, which has poor performance.  Consider joining all columns at once using pd.concat(axis=1) instead. To get a de-fragmented frame, use `newframe = frame.copy()`\n",
      "  df = pd.read_sas('LLCP2021.XPT',encoding = 'UTF-8')\n",
      "C:\\Users\\tua0\\AppData\\Local\\Temp\\1\\ipykernel_11400\\2828048442.py:1: PerformanceWarning: DataFrame is highly fragmented.  This is usually the result of calling `frame.insert` many times, which has poor performance.  Consider joining all columns at once using pd.concat(axis=1) instead. To get a de-fragmented frame, use `newframe = frame.copy()`\n",
      "  df = pd.read_sas('LLCP2021.XPT',encoding = 'UTF-8')\n",
      "C:\\Users\\tua0\\AppData\\Local\\Temp\\1\\ipykernel_11400\\2828048442.py:1: PerformanceWarning: DataFrame is highly fragmented.  This is usually the result of calling `frame.insert` many times, which has poor performance.  Consider joining all columns at once using pd.concat(axis=1) instead. To get a de-fragmented frame, use `newframe = frame.copy()`\n",
      "  df = pd.read_sas('LLCP2021.XPT',encoding = 'UTF-8')\n",
      "C:\\Users\\tua0\\AppData\\Local\\Temp\\1\\ipykernel_11400\\2828048442.py:1: PerformanceWarning: DataFrame is highly fragmented.  This is usually the result of calling `frame.insert` many times, which has poor performance.  Consider joining all columns at once using pd.concat(axis=1) instead. To get a de-fragmented frame, use `newframe = frame.copy()`\n",
      "  df = pd.read_sas('LLCP2021.XPT',encoding = 'UTF-8')\n"
     ]
    },
    {
     "name": "stderr",
     "output_type": "stream",
     "text": [
      "C:\\Users\\tua0\\AppData\\Local\\Temp\\1\\ipykernel_11400\\2828048442.py:1: PerformanceWarning: DataFrame is highly fragmented.  This is usually the result of calling `frame.insert` many times, which has poor performance.  Consider joining all columns at once using pd.concat(axis=1) instead. To get a de-fragmented frame, use `newframe = frame.copy()`\n",
      "  df = pd.read_sas('LLCP2021.XPT',encoding = 'UTF-8')\n",
      "C:\\Users\\tua0\\AppData\\Local\\Temp\\1\\ipykernel_11400\\2828048442.py:1: PerformanceWarning: DataFrame is highly fragmented.  This is usually the result of calling `frame.insert` many times, which has poor performance.  Consider joining all columns at once using pd.concat(axis=1) instead. To get a de-fragmented frame, use `newframe = frame.copy()`\n",
      "  df = pd.read_sas('LLCP2021.XPT',encoding = 'UTF-8')\n",
      "C:\\Users\\tua0\\AppData\\Local\\Temp\\1\\ipykernel_11400\\2828048442.py:1: PerformanceWarning: DataFrame is highly fragmented.  This is usually the result of calling `frame.insert` many times, which has poor performance.  Consider joining all columns at once using pd.concat(axis=1) instead. To get a de-fragmented frame, use `newframe = frame.copy()`\n",
      "  df = pd.read_sas('LLCP2021.XPT',encoding = 'UTF-8')\n",
      "C:\\Users\\tua0\\AppData\\Local\\Temp\\1\\ipykernel_11400\\2828048442.py:1: PerformanceWarning: DataFrame is highly fragmented.  This is usually the result of calling `frame.insert` many times, which has poor performance.  Consider joining all columns at once using pd.concat(axis=1) instead. To get a de-fragmented frame, use `newframe = frame.copy()`\n",
      "  df = pd.read_sas('LLCP2021.XPT',encoding = 'UTF-8')\n",
      "C:\\Users\\tua0\\AppData\\Local\\Temp\\1\\ipykernel_11400\\2828048442.py:1: PerformanceWarning: DataFrame is highly fragmented.  This is usually the result of calling `frame.insert` many times, which has poor performance.  Consider joining all columns at once using pd.concat(axis=1) instead. To get a de-fragmented frame, use `newframe = frame.copy()`\n",
      "  df = pd.read_sas('LLCP2021.XPT',encoding = 'UTF-8')\n",
      "C:\\Users\\tua0\\AppData\\Local\\Temp\\1\\ipykernel_11400\\2828048442.py:1: PerformanceWarning: DataFrame is highly fragmented.  This is usually the result of calling `frame.insert` many times, which has poor performance.  Consider joining all columns at once using pd.concat(axis=1) instead. To get a de-fragmented frame, use `newframe = frame.copy()`\n",
      "  df = pd.read_sas('LLCP2021.XPT',encoding = 'UTF-8')\n",
      "C:\\Users\\tua0\\AppData\\Local\\Temp\\1\\ipykernel_11400\\2828048442.py:1: PerformanceWarning: DataFrame is highly fragmented.  This is usually the result of calling `frame.insert` many times, which has poor performance.  Consider joining all columns at once using pd.concat(axis=1) instead. To get a de-fragmented frame, use `newframe = frame.copy()`\n",
      "  df = pd.read_sas('LLCP2021.XPT',encoding = 'UTF-8')\n",
      "C:\\Users\\tua0\\AppData\\Local\\Temp\\1\\ipykernel_11400\\2828048442.py:1: PerformanceWarning: DataFrame is highly fragmented.  This is usually the result of calling `frame.insert` many times, which has poor performance.  Consider joining all columns at once using pd.concat(axis=1) instead. To get a de-fragmented frame, use `newframe = frame.copy()`\n",
      "  df = pd.read_sas('LLCP2021.XPT',encoding = 'UTF-8')\n",
      "C:\\Users\\tua0\\AppData\\Local\\Temp\\1\\ipykernel_11400\\2828048442.py:1: PerformanceWarning: DataFrame is highly fragmented.  This is usually the result of calling `frame.insert` many times, which has poor performance.  Consider joining all columns at once using pd.concat(axis=1) instead. To get a de-fragmented frame, use `newframe = frame.copy()`\n",
      "  df = pd.read_sas('LLCP2021.XPT',encoding = 'UTF-8')\n",
      "C:\\Users\\tua0\\AppData\\Local\\Temp\\1\\ipykernel_11400\\2828048442.py:1: PerformanceWarning: DataFrame is highly fragmented.  This is usually the result of calling `frame.insert` many times, which has poor performance.  Consider joining all columns at once using pd.concat(axis=1) instead. To get a de-fragmented frame, use `newframe = frame.copy()`\n",
      "  df = pd.read_sas('LLCP2021.XPT',encoding = 'UTF-8')\n",
      "C:\\Users\\tua0\\AppData\\Local\\Temp\\1\\ipykernel_11400\\2828048442.py:1: PerformanceWarning: DataFrame is highly fragmented.  This is usually the result of calling `frame.insert` many times, which has poor performance.  Consider joining all columns at once using pd.concat(axis=1) instead. To get a de-fragmented frame, use `newframe = frame.copy()`\n",
      "  df = pd.read_sas('LLCP2021.XPT',encoding = 'UTF-8')\n",
      "C:\\Users\\tua0\\AppData\\Local\\Temp\\1\\ipykernel_11400\\2828048442.py:1: PerformanceWarning: DataFrame is highly fragmented.  This is usually the result of calling `frame.insert` many times, which has poor performance.  Consider joining all columns at once using pd.concat(axis=1) instead. To get a de-fragmented frame, use `newframe = frame.copy()`\n",
      "  df = pd.read_sas('LLCP2021.XPT',encoding = 'UTF-8')\n",
      "C:\\Users\\tua0\\AppData\\Local\\Temp\\1\\ipykernel_11400\\2828048442.py:1: PerformanceWarning: DataFrame is highly fragmented.  This is usually the result of calling `frame.insert` many times, which has poor performance.  Consider joining all columns at once using pd.concat(axis=1) instead. To get a de-fragmented frame, use `newframe = frame.copy()`\n",
      "  df = pd.read_sas('LLCP2021.XPT',encoding = 'UTF-8')\n",
      "C:\\Users\\tua0\\AppData\\Local\\Temp\\1\\ipykernel_11400\\2828048442.py:1: PerformanceWarning: DataFrame is highly fragmented.  This is usually the result of calling `frame.insert` many times, which has poor performance.  Consider joining all columns at once using pd.concat(axis=1) instead. To get a de-fragmented frame, use `newframe = frame.copy()`\n",
      "  df = pd.read_sas('LLCP2021.XPT',encoding = 'UTF-8')\n",
      "C:\\Users\\tua0\\AppData\\Local\\Temp\\1\\ipykernel_11400\\2828048442.py:1: PerformanceWarning: DataFrame is highly fragmented.  This is usually the result of calling `frame.insert` many times, which has poor performance.  Consider joining all columns at once using pd.concat(axis=1) instead. To get a de-fragmented frame, use `newframe = frame.copy()`\n",
      "  df = pd.read_sas('LLCP2021.XPT',encoding = 'UTF-8')\n",
      "C:\\Users\\tua0\\AppData\\Local\\Temp\\1\\ipykernel_11400\\2828048442.py:1: PerformanceWarning: DataFrame is highly fragmented.  This is usually the result of calling `frame.insert` many times, which has poor performance.  Consider joining all columns at once using pd.concat(axis=1) instead. To get a de-fragmented frame, use `newframe = frame.copy()`\n",
      "  df = pd.read_sas('LLCP2021.XPT',encoding = 'UTF-8')\n",
      "C:\\Users\\tua0\\AppData\\Local\\Temp\\1\\ipykernel_11400\\2828048442.py:1: PerformanceWarning: DataFrame is highly fragmented.  This is usually the result of calling `frame.insert` many times, which has poor performance.  Consider joining all columns at once using pd.concat(axis=1) instead. To get a de-fragmented frame, use `newframe = frame.copy()`\n",
      "  df = pd.read_sas('LLCP2021.XPT',encoding = 'UTF-8')\n",
      "C:\\Users\\tua0\\AppData\\Local\\Temp\\1\\ipykernel_11400\\2828048442.py:1: PerformanceWarning: DataFrame is highly fragmented.  This is usually the result of calling `frame.insert` many times, which has poor performance.  Consider joining all columns at once using pd.concat(axis=1) instead. To get a de-fragmented frame, use `newframe = frame.copy()`\n",
      "  df = pd.read_sas('LLCP2021.XPT',encoding = 'UTF-8')\n",
      "C:\\Users\\tua0\\AppData\\Local\\Temp\\1\\ipykernel_11400\\2828048442.py:1: PerformanceWarning: DataFrame is highly fragmented.  This is usually the result of calling `frame.insert` many times, which has poor performance.  Consider joining all columns at once using pd.concat(axis=1) instead. To get a de-fragmented frame, use `newframe = frame.copy()`\n",
      "  df = pd.read_sas('LLCP2021.XPT',encoding = 'UTF-8')\n",
      "C:\\Users\\tua0\\AppData\\Local\\Temp\\1\\ipykernel_11400\\2828048442.py:1: PerformanceWarning: DataFrame is highly fragmented.  This is usually the result of calling `frame.insert` many times, which has poor performance.  Consider joining all columns at once using pd.concat(axis=1) instead. To get a de-fragmented frame, use `newframe = frame.copy()`\n",
      "  df = pd.read_sas('LLCP2021.XPT',encoding = 'UTF-8')\n",
      "C:\\Users\\tua0\\AppData\\Local\\Temp\\1\\ipykernel_11400\\2828048442.py:1: PerformanceWarning: DataFrame is highly fragmented.  This is usually the result of calling `frame.insert` many times, which has poor performance.  Consider joining all columns at once using pd.concat(axis=1) instead. To get a de-fragmented frame, use `newframe = frame.copy()`\n",
      "  df = pd.read_sas('LLCP2021.XPT',encoding = 'UTF-8')\n",
      "C:\\Users\\tua0\\AppData\\Local\\Temp\\1\\ipykernel_11400\\2828048442.py:1: PerformanceWarning: DataFrame is highly fragmented.  This is usually the result of calling `frame.insert` many times, which has poor performance.  Consider joining all columns at once using pd.concat(axis=1) instead. To get a de-fragmented frame, use `newframe = frame.copy()`\n",
      "  df = pd.read_sas('LLCP2021.XPT',encoding = 'UTF-8')\n"
     ]
    },
    {
     "name": "stderr",
     "output_type": "stream",
     "text": [
      "C:\\Users\\tua0\\AppData\\Local\\Temp\\1\\ipykernel_11400\\2828048442.py:1: PerformanceWarning: DataFrame is highly fragmented.  This is usually the result of calling `frame.insert` many times, which has poor performance.  Consider joining all columns at once using pd.concat(axis=1) instead. To get a de-fragmented frame, use `newframe = frame.copy()`\n",
      "  df = pd.read_sas('LLCP2021.XPT',encoding = 'UTF-8')\n",
      "C:\\Users\\tua0\\AppData\\Local\\Temp\\1\\ipykernel_11400\\2828048442.py:1: PerformanceWarning: DataFrame is highly fragmented.  This is usually the result of calling `frame.insert` many times, which has poor performance.  Consider joining all columns at once using pd.concat(axis=1) instead. To get a de-fragmented frame, use `newframe = frame.copy()`\n",
      "  df = pd.read_sas('LLCP2021.XPT',encoding = 'UTF-8')\n",
      "C:\\Users\\tua0\\AppData\\Local\\Temp\\1\\ipykernel_11400\\2828048442.py:1: PerformanceWarning: DataFrame is highly fragmented.  This is usually the result of calling `frame.insert` many times, which has poor performance.  Consider joining all columns at once using pd.concat(axis=1) instead. To get a de-fragmented frame, use `newframe = frame.copy()`\n",
      "  df = pd.read_sas('LLCP2021.XPT',encoding = 'UTF-8')\n",
      "C:\\Users\\tua0\\AppData\\Local\\Temp\\1\\ipykernel_11400\\2828048442.py:1: PerformanceWarning: DataFrame is highly fragmented.  This is usually the result of calling `frame.insert` many times, which has poor performance.  Consider joining all columns at once using pd.concat(axis=1) instead. To get a de-fragmented frame, use `newframe = frame.copy()`\n",
      "  df = pd.read_sas('LLCP2021.XPT',encoding = 'UTF-8')\n",
      "C:\\Users\\tua0\\AppData\\Local\\Temp\\1\\ipykernel_11400\\2828048442.py:1: PerformanceWarning: DataFrame is highly fragmented.  This is usually the result of calling `frame.insert` many times, which has poor performance.  Consider joining all columns at once using pd.concat(axis=1) instead. To get a de-fragmented frame, use `newframe = frame.copy()`\n",
      "  df = pd.read_sas('LLCP2021.XPT',encoding = 'UTF-8')\n",
      "C:\\Users\\tua0\\AppData\\Local\\Temp\\1\\ipykernel_11400\\2828048442.py:1: PerformanceWarning: DataFrame is highly fragmented.  This is usually the result of calling `frame.insert` many times, which has poor performance.  Consider joining all columns at once using pd.concat(axis=1) instead. To get a de-fragmented frame, use `newframe = frame.copy()`\n",
      "  df = pd.read_sas('LLCP2021.XPT',encoding = 'UTF-8')\n",
      "C:\\Users\\tua0\\AppData\\Local\\Temp\\1\\ipykernel_11400\\2828048442.py:1: PerformanceWarning: DataFrame is highly fragmented.  This is usually the result of calling `frame.insert` many times, which has poor performance.  Consider joining all columns at once using pd.concat(axis=1) instead. To get a de-fragmented frame, use `newframe = frame.copy()`\n",
      "  df = pd.read_sas('LLCP2021.XPT',encoding = 'UTF-8')\n",
      "C:\\Users\\tua0\\AppData\\Local\\Temp\\1\\ipykernel_11400\\2828048442.py:1: PerformanceWarning: DataFrame is highly fragmented.  This is usually the result of calling `frame.insert` many times, which has poor performance.  Consider joining all columns at once using pd.concat(axis=1) instead. To get a de-fragmented frame, use `newframe = frame.copy()`\n",
      "  df = pd.read_sas('LLCP2021.XPT',encoding = 'UTF-8')\n",
      "C:\\Users\\tua0\\AppData\\Local\\Temp\\1\\ipykernel_11400\\2828048442.py:1: PerformanceWarning: DataFrame is highly fragmented.  This is usually the result of calling `frame.insert` many times, which has poor performance.  Consider joining all columns at once using pd.concat(axis=1) instead. To get a de-fragmented frame, use `newframe = frame.copy()`\n",
      "  df = pd.read_sas('LLCP2021.XPT',encoding = 'UTF-8')\n",
      "C:\\Users\\tua0\\AppData\\Local\\Temp\\1\\ipykernel_11400\\2828048442.py:1: PerformanceWarning: DataFrame is highly fragmented.  This is usually the result of calling `frame.insert` many times, which has poor performance.  Consider joining all columns at once using pd.concat(axis=1) instead. To get a de-fragmented frame, use `newframe = frame.copy()`\n",
      "  df = pd.read_sas('LLCP2021.XPT',encoding = 'UTF-8')\n",
      "C:\\Users\\tua0\\AppData\\Local\\Temp\\1\\ipykernel_11400\\2828048442.py:1: PerformanceWarning: DataFrame is highly fragmented.  This is usually the result of calling `frame.insert` many times, which has poor performance.  Consider joining all columns at once using pd.concat(axis=1) instead. To get a de-fragmented frame, use `newframe = frame.copy()`\n",
      "  df = pd.read_sas('LLCP2021.XPT',encoding = 'UTF-8')\n",
      "C:\\Users\\tua0\\AppData\\Local\\Temp\\1\\ipykernel_11400\\2828048442.py:1: PerformanceWarning: DataFrame is highly fragmented.  This is usually the result of calling `frame.insert` many times, which has poor performance.  Consider joining all columns at once using pd.concat(axis=1) instead. To get a de-fragmented frame, use `newframe = frame.copy()`\n",
      "  df = pd.read_sas('LLCP2021.XPT',encoding = 'UTF-8')\n",
      "C:\\Users\\tua0\\AppData\\Local\\Temp\\1\\ipykernel_11400\\2828048442.py:1: PerformanceWarning: DataFrame is highly fragmented.  This is usually the result of calling `frame.insert` many times, which has poor performance.  Consider joining all columns at once using pd.concat(axis=1) instead. To get a de-fragmented frame, use `newframe = frame.copy()`\n",
      "  df = pd.read_sas('LLCP2021.XPT',encoding = 'UTF-8')\n",
      "C:\\Users\\tua0\\AppData\\Local\\Temp\\1\\ipykernel_11400\\2828048442.py:1: PerformanceWarning: DataFrame is highly fragmented.  This is usually the result of calling `frame.insert` many times, which has poor performance.  Consider joining all columns at once using pd.concat(axis=1) instead. To get a de-fragmented frame, use `newframe = frame.copy()`\n",
      "  df = pd.read_sas('LLCP2021.XPT',encoding = 'UTF-8')\n",
      "C:\\Users\\tua0\\AppData\\Local\\Temp\\1\\ipykernel_11400\\2828048442.py:1: PerformanceWarning: DataFrame is highly fragmented.  This is usually the result of calling `frame.insert` many times, which has poor performance.  Consider joining all columns at once using pd.concat(axis=1) instead. To get a de-fragmented frame, use `newframe = frame.copy()`\n",
      "  df = pd.read_sas('LLCP2021.XPT',encoding = 'UTF-8')\n",
      "C:\\Users\\tua0\\AppData\\Local\\Temp\\1\\ipykernel_11400\\2828048442.py:1: PerformanceWarning: DataFrame is highly fragmented.  This is usually the result of calling `frame.insert` many times, which has poor performance.  Consider joining all columns at once using pd.concat(axis=1) instead. To get a de-fragmented frame, use `newframe = frame.copy()`\n",
      "  df = pd.read_sas('LLCP2021.XPT',encoding = 'UTF-8')\n",
      "C:\\Users\\tua0\\AppData\\Local\\Temp\\1\\ipykernel_11400\\2828048442.py:1: PerformanceWarning: DataFrame is highly fragmented.  This is usually the result of calling `frame.insert` many times, which has poor performance.  Consider joining all columns at once using pd.concat(axis=1) instead. To get a de-fragmented frame, use `newframe = frame.copy()`\n",
      "  df = pd.read_sas('LLCP2021.XPT',encoding = 'UTF-8')\n",
      "C:\\Users\\tua0\\AppData\\Local\\Temp\\1\\ipykernel_11400\\2828048442.py:1: PerformanceWarning: DataFrame is highly fragmented.  This is usually the result of calling `frame.insert` many times, which has poor performance.  Consider joining all columns at once using pd.concat(axis=1) instead. To get a de-fragmented frame, use `newframe = frame.copy()`\n",
      "  df = pd.read_sas('LLCP2021.XPT',encoding = 'UTF-8')\n",
      "C:\\Users\\tua0\\AppData\\Local\\Temp\\1\\ipykernel_11400\\2828048442.py:1: PerformanceWarning: DataFrame is highly fragmented.  This is usually the result of calling `frame.insert` many times, which has poor performance.  Consider joining all columns at once using pd.concat(axis=1) instead. To get a de-fragmented frame, use `newframe = frame.copy()`\n",
      "  df = pd.read_sas('LLCP2021.XPT',encoding = 'UTF-8')\n",
      "C:\\Users\\tua0\\AppData\\Local\\Temp\\1\\ipykernel_11400\\2828048442.py:1: PerformanceWarning: DataFrame is highly fragmented.  This is usually the result of calling `frame.insert` many times, which has poor performance.  Consider joining all columns at once using pd.concat(axis=1) instead. To get a de-fragmented frame, use `newframe = frame.copy()`\n",
      "  df = pd.read_sas('LLCP2021.XPT',encoding = 'UTF-8')\n",
      "C:\\Users\\tua0\\AppData\\Local\\Temp\\1\\ipykernel_11400\\2828048442.py:1: PerformanceWarning: DataFrame is highly fragmented.  This is usually the result of calling `frame.insert` many times, which has poor performance.  Consider joining all columns at once using pd.concat(axis=1) instead. To get a de-fragmented frame, use `newframe = frame.copy()`\n",
      "  df = pd.read_sas('LLCP2021.XPT',encoding = 'UTF-8')\n",
      "C:\\Users\\tua0\\AppData\\Local\\Temp\\1\\ipykernel_11400\\2828048442.py:1: PerformanceWarning: DataFrame is highly fragmented.  This is usually the result of calling `frame.insert` many times, which has poor performance.  Consider joining all columns at once using pd.concat(axis=1) instead. To get a de-fragmented frame, use `newframe = frame.copy()`\n",
      "  df = pd.read_sas('LLCP2021.XPT',encoding = 'UTF-8')\n",
      "C:\\Users\\tua0\\AppData\\Local\\Temp\\1\\ipykernel_11400\\2828048442.py:1: PerformanceWarning: DataFrame is highly fragmented.  This is usually the result of calling `frame.insert` many times, which has poor performance.  Consider joining all columns at once using pd.concat(axis=1) instead. To get a de-fragmented frame, use `newframe = frame.copy()`\n",
      "  df = pd.read_sas('LLCP2021.XPT',encoding = 'UTF-8')\n"
     ]
    },
    {
     "name": "stderr",
     "output_type": "stream",
     "text": [
      "C:\\Users\\tua0\\AppData\\Local\\Temp\\1\\ipykernel_11400\\2828048442.py:1: PerformanceWarning: DataFrame is highly fragmented.  This is usually the result of calling `frame.insert` many times, which has poor performance.  Consider joining all columns at once using pd.concat(axis=1) instead. To get a de-fragmented frame, use `newframe = frame.copy()`\n",
      "  df = pd.read_sas('LLCP2021.XPT',encoding = 'UTF-8')\n",
      "C:\\Users\\tua0\\AppData\\Local\\Temp\\1\\ipykernel_11400\\2828048442.py:1: PerformanceWarning: DataFrame is highly fragmented.  This is usually the result of calling `frame.insert` many times, which has poor performance.  Consider joining all columns at once using pd.concat(axis=1) instead. To get a de-fragmented frame, use `newframe = frame.copy()`\n",
      "  df = pd.read_sas('LLCP2021.XPT',encoding = 'UTF-8')\n",
      "C:\\Users\\tua0\\AppData\\Local\\Temp\\1\\ipykernel_11400\\2828048442.py:1: PerformanceWarning: DataFrame is highly fragmented.  This is usually the result of calling `frame.insert` many times, which has poor performance.  Consider joining all columns at once using pd.concat(axis=1) instead. To get a de-fragmented frame, use `newframe = frame.copy()`\n",
      "  df = pd.read_sas('LLCP2021.XPT',encoding = 'UTF-8')\n",
      "C:\\Users\\tua0\\AppData\\Local\\Temp\\1\\ipykernel_11400\\2828048442.py:1: PerformanceWarning: DataFrame is highly fragmented.  This is usually the result of calling `frame.insert` many times, which has poor performance.  Consider joining all columns at once using pd.concat(axis=1) instead. To get a de-fragmented frame, use `newframe = frame.copy()`\n",
      "  df = pd.read_sas('LLCP2021.XPT',encoding = 'UTF-8')\n",
      "C:\\Users\\tua0\\AppData\\Local\\Temp\\1\\ipykernel_11400\\2828048442.py:1: PerformanceWarning: DataFrame is highly fragmented.  This is usually the result of calling `frame.insert` many times, which has poor performance.  Consider joining all columns at once using pd.concat(axis=1) instead. To get a de-fragmented frame, use `newframe = frame.copy()`\n",
      "  df = pd.read_sas('LLCP2021.XPT',encoding = 'UTF-8')\n",
      "C:\\Users\\tua0\\AppData\\Local\\Temp\\1\\ipykernel_11400\\2828048442.py:1: PerformanceWarning: DataFrame is highly fragmented.  This is usually the result of calling `frame.insert` many times, which has poor performance.  Consider joining all columns at once using pd.concat(axis=1) instead. To get a de-fragmented frame, use `newframe = frame.copy()`\n",
      "  df = pd.read_sas('LLCP2021.XPT',encoding = 'UTF-8')\n",
      "C:\\Users\\tua0\\AppData\\Local\\Temp\\1\\ipykernel_11400\\2828048442.py:1: PerformanceWarning: DataFrame is highly fragmented.  This is usually the result of calling `frame.insert` many times, which has poor performance.  Consider joining all columns at once using pd.concat(axis=1) instead. To get a de-fragmented frame, use `newframe = frame.copy()`\n",
      "  df = pd.read_sas('LLCP2021.XPT',encoding = 'UTF-8')\n",
      "C:\\Users\\tua0\\AppData\\Local\\Temp\\1\\ipykernel_11400\\2828048442.py:1: PerformanceWarning: DataFrame is highly fragmented.  This is usually the result of calling `frame.insert` many times, which has poor performance.  Consider joining all columns at once using pd.concat(axis=1) instead. To get a de-fragmented frame, use `newframe = frame.copy()`\n",
      "  df = pd.read_sas('LLCP2021.XPT',encoding = 'UTF-8')\n",
      "C:\\Users\\tua0\\AppData\\Local\\Temp\\1\\ipykernel_11400\\2828048442.py:1: PerformanceWarning: DataFrame is highly fragmented.  This is usually the result of calling `frame.insert` many times, which has poor performance.  Consider joining all columns at once using pd.concat(axis=1) instead. To get a de-fragmented frame, use `newframe = frame.copy()`\n",
      "  df = pd.read_sas('LLCP2021.XPT',encoding = 'UTF-8')\n",
      "C:\\Users\\tua0\\AppData\\Local\\Temp\\1\\ipykernel_11400\\2828048442.py:1: PerformanceWarning: DataFrame is highly fragmented.  This is usually the result of calling `frame.insert` many times, which has poor performance.  Consider joining all columns at once using pd.concat(axis=1) instead. To get a de-fragmented frame, use `newframe = frame.copy()`\n",
      "  df = pd.read_sas('LLCP2021.XPT',encoding = 'UTF-8')\n",
      "C:\\Users\\tua0\\AppData\\Local\\Temp\\1\\ipykernel_11400\\2828048442.py:1: PerformanceWarning: DataFrame is highly fragmented.  This is usually the result of calling `frame.insert` many times, which has poor performance.  Consider joining all columns at once using pd.concat(axis=1) instead. To get a de-fragmented frame, use `newframe = frame.copy()`\n",
      "  df = pd.read_sas('LLCP2021.XPT',encoding = 'UTF-8')\n",
      "C:\\Users\\tua0\\AppData\\Local\\Temp\\1\\ipykernel_11400\\2828048442.py:1: PerformanceWarning: DataFrame is highly fragmented.  This is usually the result of calling `frame.insert` many times, which has poor performance.  Consider joining all columns at once using pd.concat(axis=1) instead. To get a de-fragmented frame, use `newframe = frame.copy()`\n",
      "  df = pd.read_sas('LLCP2021.XPT',encoding = 'UTF-8')\n",
      "C:\\Users\\tua0\\AppData\\Local\\Temp\\1\\ipykernel_11400\\2828048442.py:1: PerformanceWarning: DataFrame is highly fragmented.  This is usually the result of calling `frame.insert` many times, which has poor performance.  Consider joining all columns at once using pd.concat(axis=1) instead. To get a de-fragmented frame, use `newframe = frame.copy()`\n",
      "  df = pd.read_sas('LLCP2021.XPT',encoding = 'UTF-8')\n",
      "C:\\Users\\tua0\\AppData\\Local\\Temp\\1\\ipykernel_11400\\2828048442.py:1: PerformanceWarning: DataFrame is highly fragmented.  This is usually the result of calling `frame.insert` many times, which has poor performance.  Consider joining all columns at once using pd.concat(axis=1) instead. To get a de-fragmented frame, use `newframe = frame.copy()`\n",
      "  df = pd.read_sas('LLCP2021.XPT',encoding = 'UTF-8')\n",
      "C:\\Users\\tua0\\AppData\\Local\\Temp\\1\\ipykernel_11400\\2828048442.py:1: PerformanceWarning: DataFrame is highly fragmented.  This is usually the result of calling `frame.insert` many times, which has poor performance.  Consider joining all columns at once using pd.concat(axis=1) instead. To get a de-fragmented frame, use `newframe = frame.copy()`\n",
      "  df = pd.read_sas('LLCP2021.XPT',encoding = 'UTF-8')\n",
      "C:\\Users\\tua0\\AppData\\Local\\Temp\\1\\ipykernel_11400\\2828048442.py:1: PerformanceWarning: DataFrame is highly fragmented.  This is usually the result of calling `frame.insert` many times, which has poor performance.  Consider joining all columns at once using pd.concat(axis=1) instead. To get a de-fragmented frame, use `newframe = frame.copy()`\n",
      "  df = pd.read_sas('LLCP2021.XPT',encoding = 'UTF-8')\n",
      "C:\\Users\\tua0\\AppData\\Local\\Temp\\1\\ipykernel_11400\\2828048442.py:1: PerformanceWarning: DataFrame is highly fragmented.  This is usually the result of calling `frame.insert` many times, which has poor performance.  Consider joining all columns at once using pd.concat(axis=1) instead. To get a de-fragmented frame, use `newframe = frame.copy()`\n",
      "  df = pd.read_sas('LLCP2021.XPT',encoding = 'UTF-8')\n",
      "C:\\Users\\tua0\\AppData\\Local\\Temp\\1\\ipykernel_11400\\2828048442.py:1: PerformanceWarning: DataFrame is highly fragmented.  This is usually the result of calling `frame.insert` many times, which has poor performance.  Consider joining all columns at once using pd.concat(axis=1) instead. To get a de-fragmented frame, use `newframe = frame.copy()`\n",
      "  df = pd.read_sas('LLCP2021.XPT',encoding = 'UTF-8')\n",
      "C:\\Users\\tua0\\AppData\\Local\\Temp\\1\\ipykernel_11400\\2828048442.py:1: PerformanceWarning: DataFrame is highly fragmented.  This is usually the result of calling `frame.insert` many times, which has poor performance.  Consider joining all columns at once using pd.concat(axis=1) instead. To get a de-fragmented frame, use `newframe = frame.copy()`\n",
      "  df = pd.read_sas('LLCP2021.XPT',encoding = 'UTF-8')\n",
      "C:\\Users\\tua0\\AppData\\Local\\Temp\\1\\ipykernel_11400\\2828048442.py:1: PerformanceWarning: DataFrame is highly fragmented.  This is usually the result of calling `frame.insert` many times, which has poor performance.  Consider joining all columns at once using pd.concat(axis=1) instead. To get a de-fragmented frame, use `newframe = frame.copy()`\n",
      "  df = pd.read_sas('LLCP2021.XPT',encoding = 'UTF-8')\n",
      "C:\\Users\\tua0\\AppData\\Local\\Temp\\1\\ipykernel_11400\\2828048442.py:1: PerformanceWarning: DataFrame is highly fragmented.  This is usually the result of calling `frame.insert` many times, which has poor performance.  Consider joining all columns at once using pd.concat(axis=1) instead. To get a de-fragmented frame, use `newframe = frame.copy()`\n",
      "  df = pd.read_sas('LLCP2021.XPT',encoding = 'UTF-8')\n"
     ]
    },
    {
     "name": "stderr",
     "output_type": "stream",
     "text": [
      "C:\\Users\\tua0\\AppData\\Local\\Temp\\1\\ipykernel_11400\\2828048442.py:1: PerformanceWarning: DataFrame is highly fragmented.  This is usually the result of calling `frame.insert` many times, which has poor performance.  Consider joining all columns at once using pd.concat(axis=1) instead. To get a de-fragmented frame, use `newframe = frame.copy()`\n",
      "  df = pd.read_sas('LLCP2021.XPT',encoding = 'UTF-8')\n",
      "C:\\Users\\tua0\\AppData\\Local\\Temp\\1\\ipykernel_11400\\2828048442.py:1: PerformanceWarning: DataFrame is highly fragmented.  This is usually the result of calling `frame.insert` many times, which has poor performance.  Consider joining all columns at once using pd.concat(axis=1) instead. To get a de-fragmented frame, use `newframe = frame.copy()`\n",
      "  df = pd.read_sas('LLCP2021.XPT',encoding = 'UTF-8')\n",
      "C:\\Users\\tua0\\AppData\\Local\\Temp\\1\\ipykernel_11400\\2828048442.py:1: PerformanceWarning: DataFrame is highly fragmented.  This is usually the result of calling `frame.insert` many times, which has poor performance.  Consider joining all columns at once using pd.concat(axis=1) instead. To get a de-fragmented frame, use `newframe = frame.copy()`\n",
      "  df = pd.read_sas('LLCP2021.XPT',encoding = 'UTF-8')\n",
      "C:\\Users\\tua0\\AppData\\Local\\Temp\\1\\ipykernel_11400\\2828048442.py:1: PerformanceWarning: DataFrame is highly fragmented.  This is usually the result of calling `frame.insert` many times, which has poor performance.  Consider joining all columns at once using pd.concat(axis=1) instead. To get a de-fragmented frame, use `newframe = frame.copy()`\n",
      "  df = pd.read_sas('LLCP2021.XPT',encoding = 'UTF-8')\n",
      "C:\\Users\\tua0\\AppData\\Local\\Temp\\1\\ipykernel_11400\\2828048442.py:1: PerformanceWarning: DataFrame is highly fragmented.  This is usually the result of calling `frame.insert` many times, which has poor performance.  Consider joining all columns at once using pd.concat(axis=1) instead. To get a de-fragmented frame, use `newframe = frame.copy()`\n",
      "  df = pd.read_sas('LLCP2021.XPT',encoding = 'UTF-8')\n",
      "C:\\Users\\tua0\\AppData\\Local\\Temp\\1\\ipykernel_11400\\2828048442.py:1: PerformanceWarning: DataFrame is highly fragmented.  This is usually the result of calling `frame.insert` many times, which has poor performance.  Consider joining all columns at once using pd.concat(axis=1) instead. To get a de-fragmented frame, use `newframe = frame.copy()`\n",
      "  df = pd.read_sas('LLCP2021.XPT',encoding = 'UTF-8')\n",
      "C:\\Users\\tua0\\AppData\\Local\\Temp\\1\\ipykernel_11400\\2828048442.py:1: PerformanceWarning: DataFrame is highly fragmented.  This is usually the result of calling `frame.insert` many times, which has poor performance.  Consider joining all columns at once using pd.concat(axis=1) instead. To get a de-fragmented frame, use `newframe = frame.copy()`\n",
      "  df = pd.read_sas('LLCP2021.XPT',encoding = 'UTF-8')\n",
      "C:\\Users\\tua0\\AppData\\Local\\Temp\\1\\ipykernel_11400\\2828048442.py:1: PerformanceWarning: DataFrame is highly fragmented.  This is usually the result of calling `frame.insert` many times, which has poor performance.  Consider joining all columns at once using pd.concat(axis=1) instead. To get a de-fragmented frame, use `newframe = frame.copy()`\n",
      "  df = pd.read_sas('LLCP2021.XPT',encoding = 'UTF-8')\n",
      "C:\\Users\\tua0\\AppData\\Local\\Temp\\1\\ipykernel_11400\\2828048442.py:1: PerformanceWarning: DataFrame is highly fragmented.  This is usually the result of calling `frame.insert` many times, which has poor performance.  Consider joining all columns at once using pd.concat(axis=1) instead. To get a de-fragmented frame, use `newframe = frame.copy()`\n",
      "  df = pd.read_sas('LLCP2021.XPT',encoding = 'UTF-8')\n",
      "C:\\Users\\tua0\\AppData\\Local\\Temp\\1\\ipykernel_11400\\2828048442.py:1: PerformanceWarning: DataFrame is highly fragmented.  This is usually the result of calling `frame.insert` many times, which has poor performance.  Consider joining all columns at once using pd.concat(axis=1) instead. To get a de-fragmented frame, use `newframe = frame.copy()`\n",
      "  df = pd.read_sas('LLCP2021.XPT',encoding = 'UTF-8')\n",
      "C:\\Users\\tua0\\AppData\\Local\\Temp\\1\\ipykernel_11400\\2828048442.py:1: PerformanceWarning: DataFrame is highly fragmented.  This is usually the result of calling `frame.insert` many times, which has poor performance.  Consider joining all columns at once using pd.concat(axis=1) instead. To get a de-fragmented frame, use `newframe = frame.copy()`\n",
      "  df = pd.read_sas('LLCP2021.XPT',encoding = 'UTF-8')\n",
      "C:\\Users\\tua0\\AppData\\Local\\Temp\\1\\ipykernel_11400\\2828048442.py:1: PerformanceWarning: DataFrame is highly fragmented.  This is usually the result of calling `frame.insert` many times, which has poor performance.  Consider joining all columns at once using pd.concat(axis=1) instead. To get a de-fragmented frame, use `newframe = frame.copy()`\n",
      "  df = pd.read_sas('LLCP2021.XPT',encoding = 'UTF-8')\n",
      "C:\\Users\\tua0\\AppData\\Local\\Temp\\1\\ipykernel_11400\\2828048442.py:1: PerformanceWarning: DataFrame is highly fragmented.  This is usually the result of calling `frame.insert` many times, which has poor performance.  Consider joining all columns at once using pd.concat(axis=1) instead. To get a de-fragmented frame, use `newframe = frame.copy()`\n",
      "  df = pd.read_sas('LLCP2021.XPT',encoding = 'UTF-8')\n",
      "C:\\Users\\tua0\\AppData\\Local\\Temp\\1\\ipykernel_11400\\2828048442.py:1: PerformanceWarning: DataFrame is highly fragmented.  This is usually the result of calling `frame.insert` many times, which has poor performance.  Consider joining all columns at once using pd.concat(axis=1) instead. To get a de-fragmented frame, use `newframe = frame.copy()`\n",
      "  df = pd.read_sas('LLCP2021.XPT',encoding = 'UTF-8')\n",
      "C:\\Users\\tua0\\AppData\\Local\\Temp\\1\\ipykernel_11400\\2828048442.py:1: PerformanceWarning: DataFrame is highly fragmented.  This is usually the result of calling `frame.insert` many times, which has poor performance.  Consider joining all columns at once using pd.concat(axis=1) instead. To get a de-fragmented frame, use `newframe = frame.copy()`\n",
      "  df = pd.read_sas('LLCP2021.XPT',encoding = 'UTF-8')\n",
      "C:\\Users\\tua0\\AppData\\Local\\Temp\\1\\ipykernel_11400\\2828048442.py:1: PerformanceWarning: DataFrame is highly fragmented.  This is usually the result of calling `frame.insert` many times, which has poor performance.  Consider joining all columns at once using pd.concat(axis=1) instead. To get a de-fragmented frame, use `newframe = frame.copy()`\n",
      "  df = pd.read_sas('LLCP2021.XPT',encoding = 'UTF-8')\n",
      "C:\\Users\\tua0\\AppData\\Local\\Temp\\1\\ipykernel_11400\\2828048442.py:1: PerformanceWarning: DataFrame is highly fragmented.  This is usually the result of calling `frame.insert` many times, which has poor performance.  Consider joining all columns at once using pd.concat(axis=1) instead. To get a de-fragmented frame, use `newframe = frame.copy()`\n",
      "  df = pd.read_sas('LLCP2021.XPT',encoding = 'UTF-8')\n",
      "C:\\Users\\tua0\\AppData\\Local\\Temp\\1\\ipykernel_11400\\2828048442.py:1: PerformanceWarning: DataFrame is highly fragmented.  This is usually the result of calling `frame.insert` many times, which has poor performance.  Consider joining all columns at once using pd.concat(axis=1) instead. To get a de-fragmented frame, use `newframe = frame.copy()`\n",
      "  df = pd.read_sas('LLCP2021.XPT',encoding = 'UTF-8')\n",
      "C:\\Users\\tua0\\AppData\\Local\\Temp\\1\\ipykernel_11400\\2828048442.py:1: PerformanceWarning: DataFrame is highly fragmented.  This is usually the result of calling `frame.insert` many times, which has poor performance.  Consider joining all columns at once using pd.concat(axis=1) instead. To get a de-fragmented frame, use `newframe = frame.copy()`\n",
      "  df = pd.read_sas('LLCP2021.XPT',encoding = 'UTF-8')\n",
      "C:\\Users\\tua0\\AppData\\Local\\Temp\\1\\ipykernel_11400\\2828048442.py:1: PerformanceWarning: DataFrame is highly fragmented.  This is usually the result of calling `frame.insert` many times, which has poor performance.  Consider joining all columns at once using pd.concat(axis=1) instead. To get a de-fragmented frame, use `newframe = frame.copy()`\n",
      "  df = pd.read_sas('LLCP2021.XPT',encoding = 'UTF-8')\n",
      "C:\\Users\\tua0\\AppData\\Local\\Temp\\1\\ipykernel_11400\\2828048442.py:1: PerformanceWarning: DataFrame is highly fragmented.  This is usually the result of calling `frame.insert` many times, which has poor performance.  Consider joining all columns at once using pd.concat(axis=1) instead. To get a de-fragmented frame, use `newframe = frame.copy()`\n",
      "  df = pd.read_sas('LLCP2021.XPT',encoding = 'UTF-8')\n"
     ]
    },
    {
     "name": "stderr",
     "output_type": "stream",
     "text": [
      "C:\\Users\\tua0\\AppData\\Local\\Temp\\1\\ipykernel_11400\\2828048442.py:1: PerformanceWarning: DataFrame is highly fragmented.  This is usually the result of calling `frame.insert` many times, which has poor performance.  Consider joining all columns at once using pd.concat(axis=1) instead. To get a de-fragmented frame, use `newframe = frame.copy()`\n",
      "  df = pd.read_sas('LLCP2021.XPT',encoding = 'UTF-8')\n",
      "C:\\Users\\tua0\\AppData\\Local\\Temp\\1\\ipykernel_11400\\2828048442.py:1: PerformanceWarning: DataFrame is highly fragmented.  This is usually the result of calling `frame.insert` many times, which has poor performance.  Consider joining all columns at once using pd.concat(axis=1) instead. To get a de-fragmented frame, use `newframe = frame.copy()`\n",
      "  df = pd.read_sas('LLCP2021.XPT',encoding = 'UTF-8')\n",
      "C:\\Users\\tua0\\AppData\\Local\\Temp\\1\\ipykernel_11400\\2828048442.py:1: PerformanceWarning: DataFrame is highly fragmented.  This is usually the result of calling `frame.insert` many times, which has poor performance.  Consider joining all columns at once using pd.concat(axis=1) instead. To get a de-fragmented frame, use `newframe = frame.copy()`\n",
      "  df = pd.read_sas('LLCP2021.XPT',encoding = 'UTF-8')\n",
      "C:\\Users\\tua0\\AppData\\Local\\Temp\\1\\ipykernel_11400\\2828048442.py:1: PerformanceWarning: DataFrame is highly fragmented.  This is usually the result of calling `frame.insert` many times, which has poor performance.  Consider joining all columns at once using pd.concat(axis=1) instead. To get a de-fragmented frame, use `newframe = frame.copy()`\n",
      "  df = pd.read_sas('LLCP2021.XPT',encoding = 'UTF-8')\n",
      "C:\\Users\\tua0\\AppData\\Local\\Temp\\1\\ipykernel_11400\\2828048442.py:1: PerformanceWarning: DataFrame is highly fragmented.  This is usually the result of calling `frame.insert` many times, which has poor performance.  Consider joining all columns at once using pd.concat(axis=1) instead. To get a de-fragmented frame, use `newframe = frame.copy()`\n",
      "  df = pd.read_sas('LLCP2021.XPT',encoding = 'UTF-8')\n",
      "C:\\Users\\tua0\\AppData\\Local\\Temp\\1\\ipykernel_11400\\2828048442.py:1: PerformanceWarning: DataFrame is highly fragmented.  This is usually the result of calling `frame.insert` many times, which has poor performance.  Consider joining all columns at once using pd.concat(axis=1) instead. To get a de-fragmented frame, use `newframe = frame.copy()`\n",
      "  df = pd.read_sas('LLCP2021.XPT',encoding = 'UTF-8')\n",
      "C:\\Users\\tua0\\AppData\\Local\\Temp\\1\\ipykernel_11400\\2828048442.py:1: PerformanceWarning: DataFrame is highly fragmented.  This is usually the result of calling `frame.insert` many times, which has poor performance.  Consider joining all columns at once using pd.concat(axis=1) instead. To get a de-fragmented frame, use `newframe = frame.copy()`\n",
      "  df = pd.read_sas('LLCP2021.XPT',encoding = 'UTF-8')\n"
     ]
    }
   ],
   "source": [
    "df = pd.read_sas('LLCP2021.XPT',encoding = 'UTF-8')"
   ]
  },
  {
   "cell_type": "code",
   "execution_count": 6,
   "id": "d0e46ad4",
   "metadata": {},
   "outputs": [
    {
     "data": {
      "text/html": [
       "<div>\n",
       "<style scoped>\n",
       "    .dataframe tbody tr th:only-of-type {\n",
       "        vertical-align: middle;\n",
       "    }\n",
       "\n",
       "    .dataframe tbody tr th {\n",
       "        vertical-align: top;\n",
       "    }\n",
       "\n",
       "    .dataframe thead th {\n",
       "        text-align: right;\n",
       "    }\n",
       "</style>\n",
       "<table border=\"1\" class=\"dataframe\">\n",
       "  <thead>\n",
       "    <tr style=\"text-align: right;\">\n",
       "      <th></th>\n",
       "      <th>_STATE</th>\n",
       "      <th>FMONTH</th>\n",
       "      <th>IDATE</th>\n",
       "      <th>IMONTH</th>\n",
       "      <th>IDAY</th>\n",
       "      <th>IYEAR</th>\n",
       "      <th>DISPCODE</th>\n",
       "      <th>SEQNO</th>\n",
       "      <th>_PSU</th>\n",
       "      <th>CTELENM1</th>\n",
       "      <th>...</th>\n",
       "      <th>_FRTRES1</th>\n",
       "      <th>_VEGRES1</th>\n",
       "      <th>_FRUTSU1</th>\n",
       "      <th>_VEGESU1</th>\n",
       "      <th>_FRTLT1A</th>\n",
       "      <th>_VEGLT1A</th>\n",
       "      <th>_FRT16A</th>\n",
       "      <th>_VEG23A</th>\n",
       "      <th>_FRUITE1</th>\n",
       "      <th>_VEGETE1</th>\n",
       "    </tr>\n",
       "  </thead>\n",
       "  <tbody>\n",
       "    <tr>\n",
       "      <th>0</th>\n",
       "      <td>1.0</td>\n",
       "      <td>1.0</td>\n",
       "      <td>01192021</td>\n",
       "      <td>01</td>\n",
       "      <td>19</td>\n",
       "      <td>2021</td>\n",
       "      <td>1100.0</td>\n",
       "      <td>2021000001</td>\n",
       "      <td>2.021000e+09</td>\n",
       "      <td>1.0</td>\n",
       "      <td>...</td>\n",
       "      <td>1.0</td>\n",
       "      <td>1.0</td>\n",
       "      <td>100.0</td>\n",
       "      <td>214.0</td>\n",
       "      <td>1.0</td>\n",
       "      <td>1.0</td>\n",
       "      <td>1.0</td>\n",
       "      <td>1.0</td>\n",
       "      <td>5.397605e-79</td>\n",
       "      <td>5.397605e-79</td>\n",
       "    </tr>\n",
       "    <tr>\n",
       "      <th>1</th>\n",
       "      <td>1.0</td>\n",
       "      <td>1.0</td>\n",
       "      <td>01212021</td>\n",
       "      <td>01</td>\n",
       "      <td>21</td>\n",
       "      <td>2021</td>\n",
       "      <td>1100.0</td>\n",
       "      <td>2021000002</td>\n",
       "      <td>2.021000e+09</td>\n",
       "      <td>1.0</td>\n",
       "      <td>...</td>\n",
       "      <td>1.0</td>\n",
       "      <td>1.0</td>\n",
       "      <td>100.0</td>\n",
       "      <td>128.0</td>\n",
       "      <td>1.0</td>\n",
       "      <td>1.0</td>\n",
       "      <td>1.0</td>\n",
       "      <td>1.0</td>\n",
       "      <td>5.397605e-79</td>\n",
       "      <td>5.397605e-79</td>\n",
       "    </tr>\n",
       "    <tr>\n",
       "      <th>2</th>\n",
       "      <td>1.0</td>\n",
       "      <td>1.0</td>\n",
       "      <td>01212021</td>\n",
       "      <td>01</td>\n",
       "      <td>21</td>\n",
       "      <td>2021</td>\n",
       "      <td>1100.0</td>\n",
       "      <td>2021000003</td>\n",
       "      <td>2.021000e+09</td>\n",
       "      <td>1.0</td>\n",
       "      <td>...</td>\n",
       "      <td>1.0</td>\n",
       "      <td>1.0</td>\n",
       "      <td>100.0</td>\n",
       "      <td>71.0</td>\n",
       "      <td>1.0</td>\n",
       "      <td>2.0</td>\n",
       "      <td>1.0</td>\n",
       "      <td>1.0</td>\n",
       "      <td>5.397605e-79</td>\n",
       "      <td>5.397605e-79</td>\n",
       "    </tr>\n",
       "    <tr>\n",
       "      <th>3</th>\n",
       "      <td>1.0</td>\n",
       "      <td>1.0</td>\n",
       "      <td>01172021</td>\n",
       "      <td>01</td>\n",
       "      <td>17</td>\n",
       "      <td>2021</td>\n",
       "      <td>1100.0</td>\n",
       "      <td>2021000004</td>\n",
       "      <td>2.021000e+09</td>\n",
       "      <td>1.0</td>\n",
       "      <td>...</td>\n",
       "      <td>1.0</td>\n",
       "      <td>1.0</td>\n",
       "      <td>114.0</td>\n",
       "      <td>165.0</td>\n",
       "      <td>1.0</td>\n",
       "      <td>1.0</td>\n",
       "      <td>1.0</td>\n",
       "      <td>1.0</td>\n",
       "      <td>5.397605e-79</td>\n",
       "      <td>5.397605e-79</td>\n",
       "    </tr>\n",
       "    <tr>\n",
       "      <th>4</th>\n",
       "      <td>1.0</td>\n",
       "      <td>1.0</td>\n",
       "      <td>01152021</td>\n",
       "      <td>01</td>\n",
       "      <td>15</td>\n",
       "      <td>2021</td>\n",
       "      <td>1100.0</td>\n",
       "      <td>2021000005</td>\n",
       "      <td>2.021000e+09</td>\n",
       "      <td>1.0</td>\n",
       "      <td>...</td>\n",
       "      <td>1.0</td>\n",
       "      <td>1.0</td>\n",
       "      <td>100.0</td>\n",
       "      <td>258.0</td>\n",
       "      <td>1.0</td>\n",
       "      <td>1.0</td>\n",
       "      <td>1.0</td>\n",
       "      <td>1.0</td>\n",
       "      <td>5.397605e-79</td>\n",
       "      <td>5.397605e-79</td>\n",
       "    </tr>\n",
       "  </tbody>\n",
       "</table>\n",
       "<p>5 rows × 303 columns</p>\n",
       "</div>"
      ],
      "text/plain": [
       "   _STATE  FMONTH     IDATE IMONTH IDAY IYEAR  DISPCODE       SEQNO  \\\n",
       "0     1.0     1.0  01192021     01   19  2021    1100.0  2021000001   \n",
       "1     1.0     1.0  01212021     01   21  2021    1100.0  2021000002   \n",
       "2     1.0     1.0  01212021     01   21  2021    1100.0  2021000003   \n",
       "3     1.0     1.0  01172021     01   17  2021    1100.0  2021000004   \n",
       "4     1.0     1.0  01152021     01   15  2021    1100.0  2021000005   \n",
       "\n",
       "           _PSU  CTELENM1  ...  _FRTRES1  _VEGRES1  _FRUTSU1  _VEGESU1  \\\n",
       "0  2.021000e+09       1.0  ...       1.0       1.0     100.0     214.0   \n",
       "1  2.021000e+09       1.0  ...       1.0       1.0     100.0     128.0   \n",
       "2  2.021000e+09       1.0  ...       1.0       1.0     100.0      71.0   \n",
       "3  2.021000e+09       1.0  ...       1.0       1.0     114.0     165.0   \n",
       "4  2.021000e+09       1.0  ...       1.0       1.0     100.0     258.0   \n",
       "\n",
       "   _FRTLT1A  _VEGLT1A  _FRT16A  _VEG23A      _FRUITE1      _VEGETE1  \n",
       "0       1.0       1.0      1.0      1.0  5.397605e-79  5.397605e-79  \n",
       "1       1.0       1.0      1.0      1.0  5.397605e-79  5.397605e-79  \n",
       "2       1.0       2.0      1.0      1.0  5.397605e-79  5.397605e-79  \n",
       "3       1.0       1.0      1.0      1.0  5.397605e-79  5.397605e-79  \n",
       "4       1.0       1.0      1.0      1.0  5.397605e-79  5.397605e-79  \n",
       "\n",
       "[5 rows x 303 columns]"
      ]
     },
     "execution_count": 6,
     "metadata": {},
     "output_type": "execute_result"
    }
   ],
   "source": [
    "df.head()"
   ]
  },
  {
   "cell_type": "code",
   "execution_count": 7,
   "id": "13d3427d",
   "metadata": {},
   "outputs": [
    {
     "data": {
      "text/plain": [
       "(438693, 303)"
      ]
     },
     "execution_count": 7,
     "metadata": {},
     "output_type": "execute_result"
    },
    {
     "data": {
      "text/plain": [
       "_STATE      float64\n",
       "FMONTH      float64\n",
       "IDATE        object\n",
       "IMONTH       object\n",
       "IDAY         object\n",
       "             ...   \n",
       "_VEGLT1A    float64\n",
       "_FRT16A     float64\n",
       "_VEG23A     float64\n",
       "_FRUITE1    float64\n",
       "_VEGETE1    float64\n",
       "Length: 303, dtype: object"
      ]
     },
     "execution_count": 7,
     "metadata": {},
     "output_type": "execute_result"
    }
   ],
   "source": [
    "# Print dataframe shape\n",
    "df.shape\n",
    "df.dtypes"
   ]
  },
  {
   "cell_type": "code",
   "execution_count": 8,
   "id": "8bc28ed0",
   "metadata": {},
   "outputs": [
    {
     "name": "stdout",
     "output_type": "stream",
     "text": [
      "_STATE      0.000000\n",
      "FMONTH      0.000000\n",
      "IDATE       0.000000\n",
      "IMONTH      0.000000\n",
      "IDAY        0.000000\n",
      "IYEAR       0.000000\n",
      "DISPCODE    0.000000\n",
      "SEQNO       0.000000\n",
      "_PSU        0.000000\n",
      "CTELENM1    0.731507\n",
      "PVTRESD1    0.731507\n",
      "COLGHOUS    0.999932\n",
      "STATERE1    0.731507\n",
      "CELPHON1    0.731507\n",
      "LADULT1     0.731507\n",
      "COLGSEX     0.999932\n",
      "NUMADULT    0.731550\n",
      "LANDSEX     0.886376\n",
      "NUMMEN      0.850834\n",
      "NUMWOMEN    0.850834\n",
      "RESPSLCT    0.852599\n",
      "SAFETIME    0.268493\n",
      "CTELNUM1    0.268495\n",
      "CELLFON5    0.268493\n",
      "CADULT1     0.268493\n",
      "CELLSEX     0.268498\n",
      "PVTRESD3    0.268493\n",
      "CCLGHOUS    0.997139\n",
      "CSTATE1     0.268493\n",
      "LANDLINE    0.268493\n",
      "HHADULT     0.268498\n",
      "SEXVAR      0.000000\n",
      "GENHLTH     0.000009\n",
      "PHYSHLTH    0.000007\n",
      "MENTHLTH    0.000005\n",
      "POORHLTH    0.467933\n",
      "PRIMINSR    0.000007\n",
      "PERSDOC3    0.000005\n",
      "MEDCOST1    0.000011\n",
      "CHECKUP1    0.000005\n",
      "EXERANY2    0.000005\n",
      "BPHIGH6     0.000005\n",
      "BPMEDS      0.607623\n",
      "CHOLCHK3    0.000005\n",
      "TOLDHI3     0.138676\n",
      "CHOLMED3    0.140351\n",
      "CVDINFR4    0.000005\n",
      "CVDCRHD4    0.000005\n",
      "CVDSTRK3    0.000005\n",
      "ASTHMA3     0.000005\n",
      "ASTHNOW     0.859806\n",
      "CHCSCNCR    0.000005\n",
      "CHCOCNCR    0.000007\n",
      "CHCCOPD3    0.000007\n",
      "ADDEPEV3    0.000007\n",
      "CHCKDNY2    0.000007\n",
      "DIABETE4    0.000007\n",
      "DIABAGE3    0.868667\n",
      "HAVARTH5    0.000007\n",
      "ARTHEXER    0.675078\n",
      "ARTHEDU     0.675078\n",
      "LMTJOIN3    0.675078\n",
      "ARTHDIS2    0.675080\n",
      "JOINPAI2    0.675083\n",
      "MARITAL     0.000011\n",
      "EDUCA       0.000011\n",
      "RENTHOM1    0.000018\n",
      "NUMHHOL3    0.731514\n",
      "NUMPHON3    0.927482\n",
      "CPDEMO1B    0.000666\n",
      "VETERAN3    0.003729\n",
      "EMPLOY1     0.008179\n",
      "CHILDREN    0.013985\n",
      "INCOME3     0.020167\n",
      "PREGNANT    0.816108\n",
      "WEIGHT2     0.026935\n",
      "HEIGHT3     0.029540\n",
      "DEAF        0.033285\n",
      "BLIND       0.035888\n",
      "DECIDE      0.038394\n",
      "DIFFWALK    0.041051\n",
      "DIFFDRES    0.042823\n",
      "DIFFALON    0.045255\n",
      "SMOKE100    0.048398\n",
      "SMOKDAY2    0.618291\n",
      "USENOW3     0.050124\n",
      "ECIGNOW1    0.052485\n",
      "ALCDAY5     0.055818\n",
      "AVEDRNK3    0.520343\n",
      "DRNK3GE5    0.521704\n",
      "MAXDRNKS    0.522985\n",
      "FLUSHOT7    0.063024\n",
      "FLSHTMY3    0.517576\n",
      "IMFVPLA2    0.524968\n",
      "PNEUVAC4    0.066304\n",
      "HIVTST7     0.068729\n",
      "HIVTSTD3    0.706412\n",
      "FRUIT2      0.077902\n",
      "FRUITJU2    0.081519\n",
      "FVGREEN1    0.084330\n",
      "FRENCHF1    0.086874\n",
      "POTATOE1    0.089598\n",
      "VEGETAB2    0.092582\n",
      "PDIABTST    0.738728\n",
      "PREDIAB1    0.738731\n",
      "INSULIN1    0.949309\n",
      "BLDSUGAR    0.949306\n",
      "FEETCHK3    0.949320\n",
      "DOCTDIAB    0.949327\n",
      "CHKHEMO3    0.949329\n",
      "FEETCHK     0.949707\n",
      "EYEEXAM1    0.949338\n",
      "DIABEYE     0.949345\n",
      "DIABEDU     0.949347\n",
      "TOLDCFS     1.000000\n",
      "HAVECFS     1.000000\n",
      "WORKCFS     1.000000\n",
      "TOLDHEPC    0.975372\n",
      "TRETHEPC    0.999631\n",
      "PRIRHEPC    0.999631\n",
      "HAVEHEPC    0.999631\n",
      "HAVEHEPB    0.975429\n",
      "MEDSHEPB    0.999783\n",
      "HPVADVC4    0.969651\n",
      "HPVADSHT    0.994278\n",
      "TETANUS1    0.966088\n",
      "SHINGLE2    0.969108\n",
      "LCSFIRST    0.971445\n",
      "LCSLAST     0.972377\n",
      "LCSNUMCG    0.972420\n",
      "LCSCTSCN    0.931248\n",
      "HADMAM      0.978292\n",
      "HOWLONG     0.983004\n",
      "CERVSCRN    0.978327\n",
      "CRVCLCNC    0.988869\n",
      "CRVCLPAP    0.988954\n",
      "CRVCLHPV    0.988913\n",
      "HADHYST2    0.978573\n",
      "PSATEST1    0.994867\n",
      "PSATIME1    0.997447\n",
      "PCPSARS2    0.997449\n",
      "PCSTALK     0.997454\n",
      "HADSIGM4    0.982272\n",
      "COLNSIGM    0.987219\n",
      "COLNTES1    0.989535\n",
      "SIGMTES1    0.999856\n",
      "LASTSIG4    0.997841\n",
      "COLNCNCR    0.982286\n",
      "VIRCOLO1    0.996316\n",
      "VCLNTES1    0.999537\n",
      "SMALSTOL    0.996316\n",
      "STOLTEST    0.997194\n",
      "STOOLDN1    0.996319\n",
      "BLDSTFIT    0.999111\n",
      "SDNATES1    0.999111\n",
      "CNCRDIFF    0.977289\n",
      "CNCRAGE     0.977668\n",
      "CNCRTYP1    0.977688\n",
      "CSRVTRT3    0.983316\n",
      "CSRVDOC1    0.989874\n",
      "CSRVSUM     0.989890\n",
      "CSRVRTRN    0.989902\n",
      "CSRVINST    0.992298\n",
      "CSRVINSR    0.989911\n",
      "CSRVDEIN    0.989915\n",
      "CSRVCLIN    0.989922\n",
      "CSRVPAIN    0.979448\n",
      "CSRVCTL2    0.998060\n",
      "HOMBPCHK    0.712781\n",
      "HOMRGCHK    0.712854\n",
      "WHEREBP     0.909873\n",
      "SHAREBP     0.909903\n",
      "WTCHSALT    0.917690\n",
      "DRADVISE    0.917756\n",
      "CIMEMLOS    0.924432\n",
      "CDHOUSE     0.990041\n",
      "CDASSIST    0.990059\n",
      "CDHELP      0.997085\n",
      "CDSOCIAL    0.990082\n",
      "CDDISCUS    0.990096\n",
      "CAREGIV1    0.570935\n",
      "CRGVREL4    0.911553\n",
      "CRGVLNG1    0.911745\n",
      "CRGVHRS1    0.911941\n",
      "CRGVPRB3    0.912207\n",
      "CRGVALZD    0.920961\n",
      "CRGVPER1    0.912604\n",
      "CRGVHOU1    0.912761\n",
      "CRGVEXPT    0.660795\n",
      "ACEDEPRS    0.866050\n",
      "ACEDRINK    0.866314\n",
      "ACEDRUGS    0.866383\n",
      "ACEPRISN    0.866469\n",
      "ACEDIVRC    0.866542\n",
      "ACEPUNCH    0.866638\n",
      "ACEHURT1    0.866738\n",
      "ACESWEAR    0.866841\n",
      "ACETOUCH    0.866962\n",
      "ACETTHEM    0.867062\n",
      "ACEHVSEX    0.867155\n",
      "ACEADSAF    0.867320\n",
      "ACEADNED    0.867433\n",
      "MARIJAN1    0.686432\n",
      "USEMRJN3    0.969122\n",
      "RSNMRJN2    0.969154\n",
      "LASTSMK2    0.881801\n",
      "STOPSMK2    0.945151\n",
      "FIREARM5    0.930320\n",
      "GUNLOAD     0.972295\n",
      "LOADULK2    0.990159\n",
      "RCSGENDR    0.869939\n",
      "RCSRLTN2    0.870798\n",
      "CASTHDX2    0.875040\n",
      "CASTHNO2    0.986856\n",
      "BIRTHSEX    0.775465\n",
      "SOMALE      0.739752\n",
      "SOFEMALE    0.700659\n",
      "TRNSGNDR    0.439827\n",
      "QSTVER      0.000000\n",
      "QSTLANG     0.000000\n",
      "_METSTAT    0.016080\n",
      "_URBSTAT    0.016080\n",
      "MSCODE      0.735640\n",
      "_STSTR      0.000000\n",
      "_STRWT      0.000000\n",
      "_RAWRAKE    0.000000\n",
      "_WT2RAKE    0.000000\n",
      "_IMPRACE    0.000000\n",
      "_CHISPNC    0.289084\n",
      "_CRACE1     0.863916\n",
      "_CPRACE1    0.863916\n",
      "CAGEG       0.889262\n",
      "_CLLCPWT    0.869854\n",
      "_DUALUSE    0.000000\n",
      "_DUALCOR    0.603987\n",
      "_LLCPWT2    0.000000\n",
      "_LLCPWT     0.000000\n",
      "_RFHLTH     0.000000\n",
      "_PHYS14D    0.000000\n",
      "_MENT14D    0.000000\n",
      "_HLTHPLN    0.000000\n",
      "_HCVU652    0.000000\n",
      "_TOTINDA    0.000000\n",
      "_RFHYPE6    0.000000\n",
      "_CHOLCH3    0.000000\n",
      "_RFCHOL3    0.139394\n",
      "_MICHD      0.010565\n",
      "_LTASTH1    0.000000\n",
      "_CASTHM1    0.000000\n",
      "_ASTHMS1    0.000000\n",
      "_DRDXAR3    0.006601\n",
      "_LMTACT3    0.006601\n",
      "_LMTWRK3    0.006601\n",
      "_PRACE1     0.000009\n",
      "_MRACE1     0.000009\n",
      "_HISPANC    0.000000\n",
      "_RACE       0.000000\n",
      "_RACEG21    0.000000\n",
      "_RACEGR3    0.000000\n",
      "_RACEPRV    0.000000\n",
      "_SEX        0.000000\n",
      "_AGEG5YR    0.000000\n",
      "_AGE65YR    0.000000\n",
      "_AGE80      0.000000\n",
      "_AGE_G      0.000000\n",
      "HTIN4       0.061888\n",
      "HTM4        0.055989\n",
      "WTKG3       0.092520\n",
      "_BMI5       0.106799\n",
      "_BMI5CAT    0.106799\n",
      "_RFBMI5     0.000000\n",
      "_CHLDCNT    0.000000\n",
      "_EDUCAG     0.000000\n",
      "_INCOMG1    0.000000\n",
      "_SMOKER3    0.000000\n",
      "_RFSMOK3    0.000000\n",
      "_CURECI1    0.000000\n",
      "DRNKANY5    0.000000\n",
      "DROCDY3_    0.000000\n",
      "_RFBING5    0.000000\n",
      "_DRNKWK1    0.000000\n",
      "_RFDRHV7    0.000000\n",
      "_FLSHOT7    0.629483\n",
      "_PNEUMO3    0.629483\n",
      "_AIDTST4    0.068729\n",
      "FTJUDA2_    0.101093\n",
      "FRUTDA2_    0.100186\n",
      "GRENDA1_    0.100868\n",
      "FRNCHDA_    0.102042\n",
      "POTADA1_    0.110419\n",
      "VEGEDA2_    0.110619\n",
      "_MISFRT1    0.000000\n",
      "_MISVEG1    0.000000\n",
      "_FRTRES1    0.000000\n",
      "_VEGRES1    0.000000\n",
      "_FRUTSU1    0.116453\n",
      "_VEGESU1    0.137059\n",
      "_FRTLT1A    0.000000\n",
      "_VEGLT1A    0.000000\n",
      "_FRT16A     0.000000\n",
      "_VEG23A     0.000000\n",
      "_FRUITE1    0.000000\n",
      "_VEGETE1    0.000000\n",
      "dtype: float64\n"
     ]
    }
   ],
   "source": [
    "NullValues=df.isnull().sum()/len(df)\n",
    "#null =df.apply(lambda x: 1-(x.count()/x.size))\n",
    "with pd.option_context('display.max_rows', None, 'display.max_columns', None):\n",
    "    print (NullValues)"
   ]
  },
  {
   "cell_type": "code",
   "execution_count": 9,
   "id": "8aa88d06",
   "metadata": {},
   "outputs": [
    {
     "data": {
      "text/plain": [
       "178"
      ]
     },
     "execution_count": 9,
     "metadata": {},
     "output_type": "execute_result"
    }
   ],
   "source": [
    "NullValues.where(NullValues > 0.10).dropna().count()"
   ]
  },
  {
   "cell_type": "code",
   "execution_count": 10,
   "id": "f22b6200",
   "metadata": {},
   "outputs": [
    {
     "data": {
      "text/plain": [
       "(438693, 125)"
      ]
     },
     "execution_count": 10,
     "metadata": {},
     "output_type": "execute_result"
    },
    {
     "data": {
      "text/plain": [
       "(356654, 125)"
      ]
     },
     "execution_count": 10,
     "metadata": {},
     "output_type": "execute_result"
    }
   ],
   "source": [
    "null=NullValues.where(NullValues > 0.10).dropna()\n",
    "null_names = null.index.values\n",
    "df_1 = df.drop(null_names, axis=1)\n",
    "df_1.shape\n",
    "df_2 = df_1.dropna()#dropping all the rows containing any null values\n",
    "df_2.shape\n",
    "df=df_2"
   ]
  },
  {
   "cell_type": "code",
   "execution_count": 11,
   "id": "a24afbc2",
   "metadata": {},
   "outputs": [
    {
     "data": {
      "text/plain": [
       "2.0    341680\n",
       "1.0     14212\n",
       "7.0       738\n",
       "9.0        24\n",
       "Name: CVDSTRK3, dtype: int64"
      ]
     },
     "execution_count": 11,
     "metadata": {},
     "output_type": "execute_result"
    },
    {
     "data": {
      "text/plain": [
       "2.0    341680\n",
       "1.0     14212\n",
       "Name: CVDSTRK3, dtype: int64"
      ]
     },
     "execution_count": 11,
     "metadata": {},
     "output_type": "execute_result"
    }
   ],
   "source": [
    "#Dropping classes with options 7 and 9\n",
    "df['CVDSTRK3'].value_counts() \n",
    "df_2 = df[df['CVDSTRK3']<3]\n",
    "df_2['CVDSTRK3'].value_counts() \n",
    "df =df_2"
   ]
  },
  {
   "cell_type": "code",
   "execution_count": 12,
   "id": "d499067e",
   "metadata": {},
   "outputs": [
    {
     "data": {
      "text/plain": [
       "(355892, 125)"
      ]
     },
     "execution_count": 12,
     "metadata": {},
     "output_type": "execute_result"
    }
   ],
   "source": [
    "df.shape"
   ]
  },
  {
   "cell_type": "markdown",
   "id": "66bfa72f",
   "metadata": {},
   "source": [
    "##### https://www.youtube.com/watch?v=ycyCtxZ0a9w\n",
    "# Feature selections: 1. Filter methods, 2. Embedded Methods, 3. Wrapper Methods\n",
    "## 1) Basic statistics Filter Methods\n",
    "### 1.1) Constant Features"
   ]
  },
  {
   "cell_type": "code",
   "execution_count": 13,
   "id": "a59329ea",
   "metadata": {},
   "outputs": [],
   "source": [
    "constvar =(['_STATE', 'FMONTH', 'IDATE', 'IMONTH', 'IDAY','IYEAR', 'DISPCODE', 'SEQNO', '_PSU'])"
   ]
  },
  {
   "cell_type": "code",
   "execution_count": 14,
   "id": "ce525b27",
   "metadata": {},
   "outputs": [
    {
     "data": {
      "text/plain": [
       "(355892, 116)"
      ]
     },
     "execution_count": 14,
     "metadata": {},
     "output_type": "execute_result"
    }
   ],
   "source": [
    "df = df.drop(constvar, axis=1)\n",
    "df.shape"
   ]
  },
  {
   "cell_type": "markdown",
   "id": "72c15c1f",
   "metadata": {},
   "source": [
    "#### In order to avoid overfitting, feature selection should only be applied to the training set. Splitting data into train and test"
   ]
  },
  {
   "cell_type": "code",
   "execution_count": 15,
   "id": "fef74147",
   "metadata": {},
   "outputs": [],
   "source": [
    "y= df['CVDSTRK3']\n",
    "X = df.drop('CVDSTRK3', axis=1)"
   ]
  },
  {
   "cell_type": "code",
   "execution_count": 16,
   "id": "21b3656b",
   "metadata": {},
   "outputs": [],
   "source": [
    "X_train, X_test, y_train, y_test = train_test_split(X,y, test_size=0.2,random_state=5)"
   ]
  },
  {
   "cell_type": "code",
   "execution_count": 17,
   "id": "89b89e19",
   "metadata": {},
   "outputs": [],
   "source": [
    "# I keep a copy of X_train & X_test with all the variables to measure the performance of machine learning models\n",
    "X_train_org = X_train.copy()\n",
    "y_train_org = y_train.copy()\n",
    "X_test_org = X_test.copy()\n",
    "y_test_org = y_test.copy()"
   ]
  },
  {
   "cell_type": "code",
   "execution_count": 18,
   "id": "482a06f4",
   "metadata": {},
   "outputs": [
    {
     "data": {
      "text/plain": [
       "2.0    273348\n",
       "1.0     11365\n",
       "Name: CVDSTRK3, dtype: int64"
      ]
     },
     "execution_count": 18,
     "metadata": {},
     "output_type": "execute_result"
    }
   ],
   "source": [
    "y_train.value_counts() "
   ]
  },
  {
   "cell_type": "markdown",
   "id": "1bd68445",
   "metadata": {},
   "source": [
    "#### Constant Features: Constant features are the features which has same value for all the observations. yherefore it is advisable to remove them. We are using variance thresold function to identify constant features. This method can not be used for categorical variables. It is only used for numerical variables. This method does not considers dependent variable and correlations."
   ]
  },
  {
   "cell_type": "code",
   "execution_count": 19,
   "id": "f44ad599",
   "metadata": {},
   "outputs": [
    {
     "data": {
      "text/plain": [
       "(284713, 115)"
      ]
     },
     "execution_count": 19,
     "metadata": {},
     "output_type": "execute_result"
    }
   ],
   "source": [
    "X_train.shape"
   ]
  },
  {
   "cell_type": "code",
   "execution_count": 20,
   "id": "9646e61d",
   "metadata": {},
   "outputs": [
    {
     "data": {
      "text/plain": [
       "(284713, 115)"
      ]
     },
     "execution_count": 20,
     "metadata": {},
     "output_type": "execute_result"
    }
   ],
   "source": [
    "from sklearn.feature_selection import VarianceThreshold\n",
    "constant_filter = VarianceThreshold(threshold=0)\n",
    "#Fitting and transforming data\n",
    "X_train1 = constant_filter.fit_transform(X_train)\n",
    "X_train.shape"
   ]
  },
  {
   "cell_type": "markdown",
   "id": "c5203517",
   "metadata": {},
   "source": [
    "#### 1.2) Quasi-constant Features"
   ]
  },
  {
   "cell_type": "code",
   "execution_count": 21,
   "id": "07aab45f",
   "metadata": {},
   "outputs": [
    {
     "data": {
      "text/plain": [
       "(284713, 115)"
      ]
     },
     "execution_count": 21,
     "metadata": {},
     "output_type": "execute_result"
    }
   ],
   "source": [
    "# increase thresold to 0.01 to identify qusi constant features\n",
    "#for one hot encoded variables it is recommended to use Bernouli thresold i.e. if p=0.8 then Bernouli thresold=0.8(1-0.8)\n",
    "from sklearn.feature_selection import VarianceThreshold\n",
    "constant_filter = VarianceThreshold(threshold=0.01)\n",
    "#Fitting and transforming data\n",
    "X_train1 = constant_filter.fit_transform(X_train)\n",
    "X_train.shape"
   ]
  },
  {
   "cell_type": "markdown",
   "id": "5f67bc9b",
   "metadata": {},
   "source": [
    "####  1.3) Duplicated features"
   ]
  },
  {
   "cell_type": "code",
   "execution_count": 22,
   "id": "b9d23ffe",
   "metadata": {},
   "outputs": [
    {
     "data": {
      "text/plain": [
       "1"
      ]
     },
     "execution_count": 22,
     "metadata": {},
     "output_type": "execute_result"
    }
   ],
   "source": [
    "duplicate_feat = []\n",
    "for i in range(0, len(X_train.columns)):\n",
    "    col_1 = X_train.columns[i]\n",
    "    \n",
    "    for col_2 in X_train.columns[i+1:]:\n",
    "        if X_train[col_1].equals(X_train[col_2]):\n",
    "            duplicate_feat.append(col_2)\n",
    "            \n",
    "len(duplicate_feat)"
   ]
  },
  {
   "cell_type": "code",
   "execution_count": 23,
   "id": "9b6a9625",
   "metadata": {},
   "outputs": [
    {
     "data": {
      "text/plain": [
       "['_DRDXAR3']"
      ]
     },
     "execution_count": 23,
     "metadata": {},
     "output_type": "execute_result"
    }
   ],
   "source": [
    "duplicate_feat"
   ]
  },
  {
   "cell_type": "code",
   "execution_count": 24,
   "id": "58e3c52d",
   "metadata": {},
   "outputs": [
    {
     "data": {
      "text/html": [
       "<div>\n",
       "<style scoped>\n",
       "    .dataframe tbody tr th:only-of-type {\n",
       "        vertical-align: middle;\n",
       "    }\n",
       "\n",
       "    .dataframe tbody tr th {\n",
       "        vertical-align: top;\n",
       "    }\n",
       "\n",
       "    .dataframe thead th {\n",
       "        text-align: right;\n",
       "    }\n",
       "</style>\n",
       "<table border=\"1\" class=\"dataframe\">\n",
       "  <thead>\n",
       "    <tr style=\"text-align: right;\">\n",
       "      <th></th>\n",
       "      <th>_DRDXAR3</th>\n",
       "    </tr>\n",
       "  </thead>\n",
       "  <tbody>\n",
       "    <tr>\n",
       "      <th>100833</th>\n",
       "      <td>2.0</td>\n",
       "    </tr>\n",
       "    <tr>\n",
       "      <th>67152</th>\n",
       "      <td>2.0</td>\n",
       "    </tr>\n",
       "    <tr>\n",
       "      <th>71144</th>\n",
       "      <td>1.0</td>\n",
       "    </tr>\n",
       "    <tr>\n",
       "      <th>107901</th>\n",
       "      <td>1.0</td>\n",
       "    </tr>\n",
       "    <tr>\n",
       "      <th>361619</th>\n",
       "      <td>1.0</td>\n",
       "    </tr>\n",
       "    <tr>\n",
       "      <th>12029</th>\n",
       "      <td>2.0</td>\n",
       "    </tr>\n",
       "    <tr>\n",
       "      <th>264026</th>\n",
       "      <td>2.0</td>\n",
       "    </tr>\n",
       "    <tr>\n",
       "      <th>236233</th>\n",
       "      <td>1.0</td>\n",
       "    </tr>\n",
       "    <tr>\n",
       "      <th>382591</th>\n",
       "      <td>2.0</td>\n",
       "    </tr>\n",
       "    <tr>\n",
       "      <th>420543</th>\n",
       "      <td>1.0</td>\n",
       "    </tr>\n",
       "    <tr>\n",
       "      <th>100676</th>\n",
       "      <td>1.0</td>\n",
       "    </tr>\n",
       "    <tr>\n",
       "      <th>159804</th>\n",
       "      <td>2.0</td>\n",
       "    </tr>\n",
       "    <tr>\n",
       "      <th>345847</th>\n",
       "      <td>2.0</td>\n",
       "    </tr>\n",
       "    <tr>\n",
       "      <th>250592</th>\n",
       "      <td>2.0</td>\n",
       "    </tr>\n",
       "    <tr>\n",
       "      <th>2066</th>\n",
       "      <td>2.0</td>\n",
       "    </tr>\n",
       "    <tr>\n",
       "      <th>246423</th>\n",
       "      <td>1.0</td>\n",
       "    </tr>\n",
       "    <tr>\n",
       "      <th>384541</th>\n",
       "      <td>1.0</td>\n",
       "    </tr>\n",
       "    <tr>\n",
       "      <th>268716</th>\n",
       "      <td>2.0</td>\n",
       "    </tr>\n",
       "    <tr>\n",
       "      <th>395004</th>\n",
       "      <td>2.0</td>\n",
       "    </tr>\n",
       "    <tr>\n",
       "      <th>210732</th>\n",
       "      <td>1.0</td>\n",
       "    </tr>\n",
       "  </tbody>\n",
       "</table>\n",
       "</div>"
      ],
      "text/plain": [
       "        _DRDXAR3\n",
       "100833       2.0\n",
       "67152        2.0\n",
       "71144        1.0\n",
       "107901       1.0\n",
       "361619       1.0\n",
       "12029        2.0\n",
       "264026       2.0\n",
       "236233       1.0\n",
       "382591       2.0\n",
       "420543       1.0\n",
       "100676       1.0\n",
       "159804       2.0\n",
       "345847       2.0\n",
       "250592       2.0\n",
       "2066         2.0\n",
       "246423       1.0\n",
       "384541       1.0\n",
       "268716       2.0\n",
       "395004       2.0\n",
       "210732       1.0"
      ]
     },
     "execution_count": 24,
     "metadata": {},
     "output_type": "execute_result"
    }
   ],
   "source": [
    "X_train[duplicate_feat].head(20)"
   ]
  },
  {
   "cell_type": "code",
   "execution_count": 25,
   "id": "387747e8",
   "metadata": {},
   "outputs": [
    {
     "data": {
      "text/html": [
       "<div>\n",
       "<style scoped>\n",
       "    .dataframe tbody tr th:only-of-type {\n",
       "        vertical-align: middle;\n",
       "    }\n",
       "\n",
       "    .dataframe tbody tr th {\n",
       "        vertical-align: top;\n",
       "    }\n",
       "\n",
       "    .dataframe thead th {\n",
       "        text-align: right;\n",
       "    }\n",
       "</style>\n",
       "<table border=\"1\" class=\"dataframe\">\n",
       "  <thead>\n",
       "    <tr style=\"text-align: right;\">\n",
       "      <th></th>\n",
       "      <th>SEXVAR</th>\n",
       "      <th>GENHLTH</th>\n",
       "      <th>PHYSHLTH</th>\n",
       "      <th>MENTHLTH</th>\n",
       "      <th>PRIMINSR</th>\n",
       "      <th>PERSDOC3</th>\n",
       "      <th>MEDCOST1</th>\n",
       "      <th>CHECKUP1</th>\n",
       "      <th>EXERANY2</th>\n",
       "      <th>BPHIGH6</th>\n",
       "      <th>...</th>\n",
       "      <th>_MISFRT1</th>\n",
       "      <th>_MISVEG1</th>\n",
       "      <th>_FRTRES1</th>\n",
       "      <th>_VEGRES1</th>\n",
       "      <th>_FRTLT1A</th>\n",
       "      <th>_VEGLT1A</th>\n",
       "      <th>_FRT16A</th>\n",
       "      <th>_VEG23A</th>\n",
       "      <th>_FRUITE1</th>\n",
       "      <th>_VEGETE1</th>\n",
       "    </tr>\n",
       "  </thead>\n",
       "  <tbody>\n",
       "    <tr>\n",
       "      <th>100833</th>\n",
       "      <td>1.0</td>\n",
       "      <td>2.0</td>\n",
       "      <td>3.0</td>\n",
       "      <td>1.0</td>\n",
       "      <td>1.0</td>\n",
       "      <td>3.0</td>\n",
       "      <td>2.0</td>\n",
       "      <td>1.0</td>\n",
       "      <td>1.0</td>\n",
       "      <td>3.0</td>\n",
       "      <td>...</td>\n",
       "      <td>5.397605e-79</td>\n",
       "      <td>5.397605e-79</td>\n",
       "      <td>1.0</td>\n",
       "      <td>1.000000e+00</td>\n",
       "      <td>2.0</td>\n",
       "      <td>1.0</td>\n",
       "      <td>1.0</td>\n",
       "      <td>1.0</td>\n",
       "      <td>5.397605e-79</td>\n",
       "      <td>5.397605e-79</td>\n",
       "    </tr>\n",
       "    <tr>\n",
       "      <th>67152</th>\n",
       "      <td>2.0</td>\n",
       "      <td>5.0</td>\n",
       "      <td>77.0</td>\n",
       "      <td>88.0</td>\n",
       "      <td>3.0</td>\n",
       "      <td>2.0</td>\n",
       "      <td>2.0</td>\n",
       "      <td>1.0</td>\n",
       "      <td>1.0</td>\n",
       "      <td>1.0</td>\n",
       "      <td>...</td>\n",
       "      <td>5.397605e-79</td>\n",
       "      <td>5.397605e-79</td>\n",
       "      <td>1.0</td>\n",
       "      <td>1.000000e+00</td>\n",
       "      <td>2.0</td>\n",
       "      <td>2.0</td>\n",
       "      <td>1.0</td>\n",
       "      <td>1.0</td>\n",
       "      <td>5.397605e-79</td>\n",
       "      <td>5.397605e-79</td>\n",
       "    </tr>\n",
       "    <tr>\n",
       "      <th>71144</th>\n",
       "      <td>1.0</td>\n",
       "      <td>4.0</td>\n",
       "      <td>88.0</td>\n",
       "      <td>88.0</td>\n",
       "      <td>5.0</td>\n",
       "      <td>1.0</td>\n",
       "      <td>2.0</td>\n",
       "      <td>1.0</td>\n",
       "      <td>2.0</td>\n",
       "      <td>1.0</td>\n",
       "      <td>...</td>\n",
       "      <td>5.397605e-79</td>\n",
       "      <td>5.397605e-79</td>\n",
       "      <td>1.0</td>\n",
       "      <td>1.000000e+00</td>\n",
       "      <td>2.0</td>\n",
       "      <td>1.0</td>\n",
       "      <td>1.0</td>\n",
       "      <td>1.0</td>\n",
       "      <td>5.397605e-79</td>\n",
       "      <td>5.397605e-79</td>\n",
       "    </tr>\n",
       "    <tr>\n",
       "      <th>107901</th>\n",
       "      <td>1.0</td>\n",
       "      <td>2.0</td>\n",
       "      <td>88.0</td>\n",
       "      <td>88.0</td>\n",
       "      <td>3.0</td>\n",
       "      <td>2.0</td>\n",
       "      <td>2.0</td>\n",
       "      <td>1.0</td>\n",
       "      <td>2.0</td>\n",
       "      <td>3.0</td>\n",
       "      <td>...</td>\n",
       "      <td>5.397605e-79</td>\n",
       "      <td>1.000000e+00</td>\n",
       "      <td>1.0</td>\n",
       "      <td>5.397605e-79</td>\n",
       "      <td>2.0</td>\n",
       "      <td>9.0</td>\n",
       "      <td>1.0</td>\n",
       "      <td>1.0</td>\n",
       "      <td>5.397605e-79</td>\n",
       "      <td>1.000000e+00</td>\n",
       "    </tr>\n",
       "    <tr>\n",
       "      <th>361619</th>\n",
       "      <td>2.0</td>\n",
       "      <td>5.0</td>\n",
       "      <td>15.0</td>\n",
       "      <td>88.0</td>\n",
       "      <td>3.0</td>\n",
       "      <td>2.0</td>\n",
       "      <td>2.0</td>\n",
       "      <td>2.0</td>\n",
       "      <td>2.0</td>\n",
       "      <td>3.0</td>\n",
       "      <td>...</td>\n",
       "      <td>5.397605e-79</td>\n",
       "      <td>5.397605e-79</td>\n",
       "      <td>1.0</td>\n",
       "      <td>1.000000e+00</td>\n",
       "      <td>2.0</td>\n",
       "      <td>1.0</td>\n",
       "      <td>1.0</td>\n",
       "      <td>1.0</td>\n",
       "      <td>5.397605e-79</td>\n",
       "      <td>5.397605e-79</td>\n",
       "    </tr>\n",
       "    <tr>\n",
       "      <th>...</th>\n",
       "      <td>...</td>\n",
       "      <td>...</td>\n",
       "      <td>...</td>\n",
       "      <td>...</td>\n",
       "      <td>...</td>\n",
       "      <td>...</td>\n",
       "      <td>...</td>\n",
       "      <td>...</td>\n",
       "      <td>...</td>\n",
       "      <td>...</td>\n",
       "      <td>...</td>\n",
       "      <td>...</td>\n",
       "      <td>...</td>\n",
       "      <td>...</td>\n",
       "      <td>...</td>\n",
       "      <td>...</td>\n",
       "      <td>...</td>\n",
       "      <td>...</td>\n",
       "      <td>...</td>\n",
       "      <td>...</td>\n",
       "      <td>...</td>\n",
       "    </tr>\n",
       "    <tr>\n",
       "      <th>282296</th>\n",
       "      <td>2.0</td>\n",
       "      <td>2.0</td>\n",
       "      <td>88.0</td>\n",
       "      <td>88.0</td>\n",
       "      <td>3.0</td>\n",
       "      <td>2.0</td>\n",
       "      <td>2.0</td>\n",
       "      <td>1.0</td>\n",
       "      <td>2.0</td>\n",
       "      <td>1.0</td>\n",
       "      <td>...</td>\n",
       "      <td>5.397605e-79</td>\n",
       "      <td>5.397605e-79</td>\n",
       "      <td>1.0</td>\n",
       "      <td>1.000000e+00</td>\n",
       "      <td>2.0</td>\n",
       "      <td>1.0</td>\n",
       "      <td>1.0</td>\n",
       "      <td>1.0</td>\n",
       "      <td>5.397605e-79</td>\n",
       "      <td>5.397605e-79</td>\n",
       "    </tr>\n",
       "    <tr>\n",
       "      <th>150550</th>\n",
       "      <td>1.0</td>\n",
       "      <td>2.0</td>\n",
       "      <td>3.0</td>\n",
       "      <td>88.0</td>\n",
       "      <td>1.0</td>\n",
       "      <td>1.0</td>\n",
       "      <td>2.0</td>\n",
       "      <td>1.0</td>\n",
       "      <td>1.0</td>\n",
       "      <td>3.0</td>\n",
       "      <td>...</td>\n",
       "      <td>5.397605e-79</td>\n",
       "      <td>5.397605e-79</td>\n",
       "      <td>1.0</td>\n",
       "      <td>1.000000e+00</td>\n",
       "      <td>1.0</td>\n",
       "      <td>1.0</td>\n",
       "      <td>1.0</td>\n",
       "      <td>1.0</td>\n",
       "      <td>5.397605e-79</td>\n",
       "      <td>5.397605e-79</td>\n",
       "    </tr>\n",
       "    <tr>\n",
       "      <th>24312</th>\n",
       "      <td>2.0</td>\n",
       "      <td>1.0</td>\n",
       "      <td>88.0</td>\n",
       "      <td>88.0</td>\n",
       "      <td>1.0</td>\n",
       "      <td>1.0</td>\n",
       "      <td>1.0</td>\n",
       "      <td>1.0</td>\n",
       "      <td>1.0</td>\n",
       "      <td>1.0</td>\n",
       "      <td>...</td>\n",
       "      <td>5.397605e-79</td>\n",
       "      <td>5.397605e-79</td>\n",
       "      <td>1.0</td>\n",
       "      <td>1.000000e+00</td>\n",
       "      <td>1.0</td>\n",
       "      <td>1.0</td>\n",
       "      <td>1.0</td>\n",
       "      <td>1.0</td>\n",
       "      <td>5.397605e-79</td>\n",
       "      <td>5.397605e-79</td>\n",
       "    </tr>\n",
       "    <tr>\n",
       "      <th>22090</th>\n",
       "      <td>2.0</td>\n",
       "      <td>3.0</td>\n",
       "      <td>88.0</td>\n",
       "      <td>88.0</td>\n",
       "      <td>3.0</td>\n",
       "      <td>1.0</td>\n",
       "      <td>2.0</td>\n",
       "      <td>1.0</td>\n",
       "      <td>2.0</td>\n",
       "      <td>1.0</td>\n",
       "      <td>...</td>\n",
       "      <td>5.397605e-79</td>\n",
       "      <td>5.397605e-79</td>\n",
       "      <td>1.0</td>\n",
       "      <td>1.000000e+00</td>\n",
       "      <td>2.0</td>\n",
       "      <td>1.0</td>\n",
       "      <td>1.0</td>\n",
       "      <td>1.0</td>\n",
       "      <td>5.397605e-79</td>\n",
       "      <td>5.397605e-79</td>\n",
       "    </tr>\n",
       "    <tr>\n",
       "      <th>362015</th>\n",
       "      <td>2.0</td>\n",
       "      <td>3.0</td>\n",
       "      <td>88.0</td>\n",
       "      <td>88.0</td>\n",
       "      <td>3.0</td>\n",
       "      <td>1.0</td>\n",
       "      <td>2.0</td>\n",
       "      <td>1.0</td>\n",
       "      <td>1.0</td>\n",
       "      <td>1.0</td>\n",
       "      <td>...</td>\n",
       "      <td>5.397605e-79</td>\n",
       "      <td>5.397605e-79</td>\n",
       "      <td>1.0</td>\n",
       "      <td>1.000000e+00</td>\n",
       "      <td>2.0</td>\n",
       "      <td>2.0</td>\n",
       "      <td>1.0</td>\n",
       "      <td>1.0</td>\n",
       "      <td>5.397605e-79</td>\n",
       "      <td>5.397605e-79</td>\n",
       "    </tr>\n",
       "  </tbody>\n",
       "</table>\n",
       "<p>284713 rows × 114 columns</p>\n",
       "</div>"
      ],
      "text/plain": [
       "        SEXVAR  GENHLTH  PHYSHLTH  MENTHLTH  PRIMINSR  PERSDOC3  MEDCOST1  \\\n",
       "100833     1.0      2.0       3.0       1.0       1.0       3.0       2.0   \n",
       "67152      2.0      5.0      77.0      88.0       3.0       2.0       2.0   \n",
       "71144      1.0      4.0      88.0      88.0       5.0       1.0       2.0   \n",
       "107901     1.0      2.0      88.0      88.0       3.0       2.0       2.0   \n",
       "361619     2.0      5.0      15.0      88.0       3.0       2.0       2.0   \n",
       "...        ...      ...       ...       ...       ...       ...       ...   \n",
       "282296     2.0      2.0      88.0      88.0       3.0       2.0       2.0   \n",
       "150550     1.0      2.0       3.0      88.0       1.0       1.0       2.0   \n",
       "24312      2.0      1.0      88.0      88.0       1.0       1.0       1.0   \n",
       "22090      2.0      3.0      88.0      88.0       3.0       1.0       2.0   \n",
       "362015     2.0      3.0      88.0      88.0       3.0       1.0       2.0   \n",
       "\n",
       "        CHECKUP1  EXERANY2  BPHIGH6  ...      _MISFRT1      _MISVEG1  \\\n",
       "100833       1.0       1.0      3.0  ...  5.397605e-79  5.397605e-79   \n",
       "67152        1.0       1.0      1.0  ...  5.397605e-79  5.397605e-79   \n",
       "71144        1.0       2.0      1.0  ...  5.397605e-79  5.397605e-79   \n",
       "107901       1.0       2.0      3.0  ...  5.397605e-79  1.000000e+00   \n",
       "361619       2.0       2.0      3.0  ...  5.397605e-79  5.397605e-79   \n",
       "...          ...       ...      ...  ...           ...           ...   \n",
       "282296       1.0       2.0      1.0  ...  5.397605e-79  5.397605e-79   \n",
       "150550       1.0       1.0      3.0  ...  5.397605e-79  5.397605e-79   \n",
       "24312        1.0       1.0      1.0  ...  5.397605e-79  5.397605e-79   \n",
       "22090        1.0       2.0      1.0  ...  5.397605e-79  5.397605e-79   \n",
       "362015       1.0       1.0      1.0  ...  5.397605e-79  5.397605e-79   \n",
       "\n",
       "        _FRTRES1      _VEGRES1  _FRTLT1A  _VEGLT1A  _FRT16A  _VEG23A  \\\n",
       "100833       1.0  1.000000e+00       2.0       1.0      1.0      1.0   \n",
       "67152        1.0  1.000000e+00       2.0       2.0      1.0      1.0   \n",
       "71144        1.0  1.000000e+00       2.0       1.0      1.0      1.0   \n",
       "107901       1.0  5.397605e-79       2.0       9.0      1.0      1.0   \n",
       "361619       1.0  1.000000e+00       2.0       1.0      1.0      1.0   \n",
       "...          ...           ...       ...       ...      ...      ...   \n",
       "282296       1.0  1.000000e+00       2.0       1.0      1.0      1.0   \n",
       "150550       1.0  1.000000e+00       1.0       1.0      1.0      1.0   \n",
       "24312        1.0  1.000000e+00       1.0       1.0      1.0      1.0   \n",
       "22090        1.0  1.000000e+00       2.0       1.0      1.0      1.0   \n",
       "362015       1.0  1.000000e+00       2.0       2.0      1.0      1.0   \n",
       "\n",
       "            _FRUITE1      _VEGETE1  \n",
       "100833  5.397605e-79  5.397605e-79  \n",
       "67152   5.397605e-79  5.397605e-79  \n",
       "71144   5.397605e-79  5.397605e-79  \n",
       "107901  5.397605e-79  1.000000e+00  \n",
       "361619  5.397605e-79  5.397605e-79  \n",
       "...              ...           ...  \n",
       "282296  5.397605e-79  5.397605e-79  \n",
       "150550  5.397605e-79  5.397605e-79  \n",
       "24312   5.397605e-79  5.397605e-79  \n",
       "22090   5.397605e-79  5.397605e-79  \n",
       "362015  5.397605e-79  5.397605e-79  \n",
       "\n",
       "[284713 rows x 114 columns]"
      ]
     },
     "execution_count": 25,
     "metadata": {},
     "output_type": "execute_result"
    },
    {
     "data": {
      "text/html": [
       "<div>\n",
       "<style scoped>\n",
       "    .dataframe tbody tr th:only-of-type {\n",
       "        vertical-align: middle;\n",
       "    }\n",
       "\n",
       "    .dataframe tbody tr th {\n",
       "        vertical-align: top;\n",
       "    }\n",
       "\n",
       "    .dataframe thead th {\n",
       "        text-align: right;\n",
       "    }\n",
       "</style>\n",
       "<table border=\"1\" class=\"dataframe\">\n",
       "  <thead>\n",
       "    <tr style=\"text-align: right;\">\n",
       "      <th></th>\n",
       "      <th>SEXVAR</th>\n",
       "      <th>GENHLTH</th>\n",
       "      <th>PHYSHLTH</th>\n",
       "      <th>MENTHLTH</th>\n",
       "      <th>PRIMINSR</th>\n",
       "      <th>PERSDOC3</th>\n",
       "      <th>MEDCOST1</th>\n",
       "      <th>CHECKUP1</th>\n",
       "      <th>EXERANY2</th>\n",
       "      <th>BPHIGH6</th>\n",
       "      <th>...</th>\n",
       "      <th>_MISFRT1</th>\n",
       "      <th>_MISVEG1</th>\n",
       "      <th>_FRTRES1</th>\n",
       "      <th>_VEGRES1</th>\n",
       "      <th>_FRTLT1A</th>\n",
       "      <th>_VEGLT1A</th>\n",
       "      <th>_FRT16A</th>\n",
       "      <th>_VEG23A</th>\n",
       "      <th>_FRUITE1</th>\n",
       "      <th>_VEGETE1</th>\n",
       "    </tr>\n",
       "  </thead>\n",
       "  <tbody>\n",
       "    <tr>\n",
       "      <th>416221</th>\n",
       "      <td>1.0</td>\n",
       "      <td>3.0</td>\n",
       "      <td>30.0</td>\n",
       "      <td>88.0</td>\n",
       "      <td>1.0</td>\n",
       "      <td>1.0</td>\n",
       "      <td>2.0</td>\n",
       "      <td>3.0</td>\n",
       "      <td>1.0</td>\n",
       "      <td>3.0</td>\n",
       "      <td>...</td>\n",
       "      <td>5.397605e-79</td>\n",
       "      <td>5.397605e-79</td>\n",
       "      <td>1.000000e+00</td>\n",
       "      <td>1.0</td>\n",
       "      <td>2.0</td>\n",
       "      <td>2.0</td>\n",
       "      <td>1.0</td>\n",
       "      <td>1.0</td>\n",
       "      <td>5.397605e-79</td>\n",
       "      <td>5.397605e-79</td>\n",
       "    </tr>\n",
       "    <tr>\n",
       "      <th>244242</th>\n",
       "      <td>1.0</td>\n",
       "      <td>3.0</td>\n",
       "      <td>3.0</td>\n",
       "      <td>88.0</td>\n",
       "      <td>3.0</td>\n",
       "      <td>2.0</td>\n",
       "      <td>2.0</td>\n",
       "      <td>1.0</td>\n",
       "      <td>1.0</td>\n",
       "      <td>1.0</td>\n",
       "      <td>...</td>\n",
       "      <td>5.397605e-79</td>\n",
       "      <td>5.397605e-79</td>\n",
       "      <td>1.000000e+00</td>\n",
       "      <td>1.0</td>\n",
       "      <td>1.0</td>\n",
       "      <td>1.0</td>\n",
       "      <td>1.0</td>\n",
       "      <td>1.0</td>\n",
       "      <td>5.397605e-79</td>\n",
       "      <td>5.397605e-79</td>\n",
       "    </tr>\n",
       "    <tr>\n",
       "      <th>24825</th>\n",
       "      <td>1.0</td>\n",
       "      <td>2.0</td>\n",
       "      <td>88.0</td>\n",
       "      <td>20.0</td>\n",
       "      <td>88.0</td>\n",
       "      <td>1.0</td>\n",
       "      <td>1.0</td>\n",
       "      <td>1.0</td>\n",
       "      <td>2.0</td>\n",
       "      <td>3.0</td>\n",
       "      <td>...</td>\n",
       "      <td>1.000000e+00</td>\n",
       "      <td>5.397605e-79</td>\n",
       "      <td>5.397605e-79</td>\n",
       "      <td>1.0</td>\n",
       "      <td>9.0</td>\n",
       "      <td>1.0</td>\n",
       "      <td>1.0</td>\n",
       "      <td>1.0</td>\n",
       "      <td>1.000000e+00</td>\n",
       "      <td>5.397605e-79</td>\n",
       "    </tr>\n",
       "    <tr>\n",
       "      <th>184540</th>\n",
       "      <td>2.0</td>\n",
       "      <td>2.0</td>\n",
       "      <td>88.0</td>\n",
       "      <td>88.0</td>\n",
       "      <td>3.0</td>\n",
       "      <td>2.0</td>\n",
       "      <td>2.0</td>\n",
       "      <td>1.0</td>\n",
       "      <td>1.0</td>\n",
       "      <td>2.0</td>\n",
       "      <td>...</td>\n",
       "      <td>5.397605e-79</td>\n",
       "      <td>5.397605e-79</td>\n",
       "      <td>1.000000e+00</td>\n",
       "      <td>1.0</td>\n",
       "      <td>1.0</td>\n",
       "      <td>1.0</td>\n",
       "      <td>1.0</td>\n",
       "      <td>1.0</td>\n",
       "      <td>5.397605e-79</td>\n",
       "      <td>5.397605e-79</td>\n",
       "    </tr>\n",
       "    <tr>\n",
       "      <th>412697</th>\n",
       "      <td>2.0</td>\n",
       "      <td>2.0</td>\n",
       "      <td>88.0</td>\n",
       "      <td>10.0</td>\n",
       "      <td>1.0</td>\n",
       "      <td>3.0</td>\n",
       "      <td>2.0</td>\n",
       "      <td>4.0</td>\n",
       "      <td>1.0</td>\n",
       "      <td>3.0</td>\n",
       "      <td>...</td>\n",
       "      <td>5.397605e-79</td>\n",
       "      <td>5.397605e-79</td>\n",
       "      <td>1.000000e+00</td>\n",
       "      <td>1.0</td>\n",
       "      <td>1.0</td>\n",
       "      <td>2.0</td>\n",
       "      <td>1.0</td>\n",
       "      <td>1.0</td>\n",
       "      <td>5.397605e-79</td>\n",
       "      <td>5.397605e-79</td>\n",
       "    </tr>\n",
       "    <tr>\n",
       "      <th>...</th>\n",
       "      <td>...</td>\n",
       "      <td>...</td>\n",
       "      <td>...</td>\n",
       "      <td>...</td>\n",
       "      <td>...</td>\n",
       "      <td>...</td>\n",
       "      <td>...</td>\n",
       "      <td>...</td>\n",
       "      <td>...</td>\n",
       "      <td>...</td>\n",
       "      <td>...</td>\n",
       "      <td>...</td>\n",
       "      <td>...</td>\n",
       "      <td>...</td>\n",
       "      <td>...</td>\n",
       "      <td>...</td>\n",
       "      <td>...</td>\n",
       "      <td>...</td>\n",
       "      <td>...</td>\n",
       "      <td>...</td>\n",
       "      <td>...</td>\n",
       "    </tr>\n",
       "    <tr>\n",
       "      <th>298305</th>\n",
       "      <td>2.0</td>\n",
       "      <td>2.0</td>\n",
       "      <td>88.0</td>\n",
       "      <td>88.0</td>\n",
       "      <td>1.0</td>\n",
       "      <td>1.0</td>\n",
       "      <td>2.0</td>\n",
       "      <td>1.0</td>\n",
       "      <td>1.0</td>\n",
       "      <td>1.0</td>\n",
       "      <td>...</td>\n",
       "      <td>5.397605e-79</td>\n",
       "      <td>5.397605e-79</td>\n",
       "      <td>1.000000e+00</td>\n",
       "      <td>1.0</td>\n",
       "      <td>2.0</td>\n",
       "      <td>1.0</td>\n",
       "      <td>1.0</td>\n",
       "      <td>1.0</td>\n",
       "      <td>5.397605e-79</td>\n",
       "      <td>5.397605e-79</td>\n",
       "    </tr>\n",
       "    <tr>\n",
       "      <th>322098</th>\n",
       "      <td>2.0</td>\n",
       "      <td>2.0</td>\n",
       "      <td>88.0</td>\n",
       "      <td>2.0</td>\n",
       "      <td>1.0</td>\n",
       "      <td>2.0</td>\n",
       "      <td>2.0</td>\n",
       "      <td>1.0</td>\n",
       "      <td>1.0</td>\n",
       "      <td>3.0</td>\n",
       "      <td>...</td>\n",
       "      <td>5.397605e-79</td>\n",
       "      <td>5.397605e-79</td>\n",
       "      <td>1.000000e+00</td>\n",
       "      <td>1.0</td>\n",
       "      <td>1.0</td>\n",
       "      <td>1.0</td>\n",
       "      <td>1.0</td>\n",
       "      <td>1.0</td>\n",
       "      <td>5.397605e-79</td>\n",
       "      <td>5.397605e-79</td>\n",
       "    </tr>\n",
       "    <tr>\n",
       "      <th>287433</th>\n",
       "      <td>1.0</td>\n",
       "      <td>1.0</td>\n",
       "      <td>88.0</td>\n",
       "      <td>88.0</td>\n",
       "      <td>1.0</td>\n",
       "      <td>1.0</td>\n",
       "      <td>2.0</td>\n",
       "      <td>1.0</td>\n",
       "      <td>1.0</td>\n",
       "      <td>1.0</td>\n",
       "      <td>...</td>\n",
       "      <td>5.397605e-79</td>\n",
       "      <td>5.397605e-79</td>\n",
       "      <td>1.000000e+00</td>\n",
       "      <td>1.0</td>\n",
       "      <td>2.0</td>\n",
       "      <td>1.0</td>\n",
       "      <td>1.0</td>\n",
       "      <td>1.0</td>\n",
       "      <td>5.397605e-79</td>\n",
       "      <td>5.397605e-79</td>\n",
       "    </tr>\n",
       "    <tr>\n",
       "      <th>82165</th>\n",
       "      <td>2.0</td>\n",
       "      <td>2.0</td>\n",
       "      <td>10.0</td>\n",
       "      <td>2.0</td>\n",
       "      <td>1.0</td>\n",
       "      <td>1.0</td>\n",
       "      <td>2.0</td>\n",
       "      <td>1.0</td>\n",
       "      <td>1.0</td>\n",
       "      <td>2.0</td>\n",
       "      <td>...</td>\n",
       "      <td>5.397605e-79</td>\n",
       "      <td>5.397605e-79</td>\n",
       "      <td>1.000000e+00</td>\n",
       "      <td>1.0</td>\n",
       "      <td>1.0</td>\n",
       "      <td>1.0</td>\n",
       "      <td>1.0</td>\n",
       "      <td>1.0</td>\n",
       "      <td>5.397605e-79</td>\n",
       "      <td>5.397605e-79</td>\n",
       "    </tr>\n",
       "    <tr>\n",
       "      <th>303084</th>\n",
       "      <td>1.0</td>\n",
       "      <td>3.0</td>\n",
       "      <td>1.0</td>\n",
       "      <td>1.0</td>\n",
       "      <td>3.0</td>\n",
       "      <td>2.0</td>\n",
       "      <td>2.0</td>\n",
       "      <td>1.0</td>\n",
       "      <td>1.0</td>\n",
       "      <td>1.0</td>\n",
       "      <td>...</td>\n",
       "      <td>5.397605e-79</td>\n",
       "      <td>5.397605e-79</td>\n",
       "      <td>1.000000e+00</td>\n",
       "      <td>1.0</td>\n",
       "      <td>1.0</td>\n",
       "      <td>1.0</td>\n",
       "      <td>1.0</td>\n",
       "      <td>1.0</td>\n",
       "      <td>5.397605e-79</td>\n",
       "      <td>5.397605e-79</td>\n",
       "    </tr>\n",
       "  </tbody>\n",
       "</table>\n",
       "<p>71179 rows × 114 columns</p>\n",
       "</div>"
      ],
      "text/plain": [
       "        SEXVAR  GENHLTH  PHYSHLTH  MENTHLTH  PRIMINSR  PERSDOC3  MEDCOST1  \\\n",
       "416221     1.0      3.0      30.0      88.0       1.0       1.0       2.0   \n",
       "244242     1.0      3.0       3.0      88.0       3.0       2.0       2.0   \n",
       "24825      1.0      2.0      88.0      20.0      88.0       1.0       1.0   \n",
       "184540     2.0      2.0      88.0      88.0       3.0       2.0       2.0   \n",
       "412697     2.0      2.0      88.0      10.0       1.0       3.0       2.0   \n",
       "...        ...      ...       ...       ...       ...       ...       ...   \n",
       "298305     2.0      2.0      88.0      88.0       1.0       1.0       2.0   \n",
       "322098     2.0      2.0      88.0       2.0       1.0       2.0       2.0   \n",
       "287433     1.0      1.0      88.0      88.0       1.0       1.0       2.0   \n",
       "82165      2.0      2.0      10.0       2.0       1.0       1.0       2.0   \n",
       "303084     1.0      3.0       1.0       1.0       3.0       2.0       2.0   \n",
       "\n",
       "        CHECKUP1  EXERANY2  BPHIGH6  ...      _MISFRT1      _MISVEG1  \\\n",
       "416221       3.0       1.0      3.0  ...  5.397605e-79  5.397605e-79   \n",
       "244242       1.0       1.0      1.0  ...  5.397605e-79  5.397605e-79   \n",
       "24825        1.0       2.0      3.0  ...  1.000000e+00  5.397605e-79   \n",
       "184540       1.0       1.0      2.0  ...  5.397605e-79  5.397605e-79   \n",
       "412697       4.0       1.0      3.0  ...  5.397605e-79  5.397605e-79   \n",
       "...          ...       ...      ...  ...           ...           ...   \n",
       "298305       1.0       1.0      1.0  ...  5.397605e-79  5.397605e-79   \n",
       "322098       1.0       1.0      3.0  ...  5.397605e-79  5.397605e-79   \n",
       "287433       1.0       1.0      1.0  ...  5.397605e-79  5.397605e-79   \n",
       "82165        1.0       1.0      2.0  ...  5.397605e-79  5.397605e-79   \n",
       "303084       1.0       1.0      1.0  ...  5.397605e-79  5.397605e-79   \n",
       "\n",
       "            _FRTRES1  _VEGRES1  _FRTLT1A  _VEGLT1A  _FRT16A  _VEG23A  \\\n",
       "416221  1.000000e+00       1.0       2.0       2.0      1.0      1.0   \n",
       "244242  1.000000e+00       1.0       1.0       1.0      1.0      1.0   \n",
       "24825   5.397605e-79       1.0       9.0       1.0      1.0      1.0   \n",
       "184540  1.000000e+00       1.0       1.0       1.0      1.0      1.0   \n",
       "412697  1.000000e+00       1.0       1.0       2.0      1.0      1.0   \n",
       "...              ...       ...       ...       ...      ...      ...   \n",
       "298305  1.000000e+00       1.0       2.0       1.0      1.0      1.0   \n",
       "322098  1.000000e+00       1.0       1.0       1.0      1.0      1.0   \n",
       "287433  1.000000e+00       1.0       2.0       1.0      1.0      1.0   \n",
       "82165   1.000000e+00       1.0       1.0       1.0      1.0      1.0   \n",
       "303084  1.000000e+00       1.0       1.0       1.0      1.0      1.0   \n",
       "\n",
       "            _FRUITE1      _VEGETE1  \n",
       "416221  5.397605e-79  5.397605e-79  \n",
       "244242  5.397605e-79  5.397605e-79  \n",
       "24825   1.000000e+00  5.397605e-79  \n",
       "184540  5.397605e-79  5.397605e-79  \n",
       "412697  5.397605e-79  5.397605e-79  \n",
       "...              ...           ...  \n",
       "298305  5.397605e-79  5.397605e-79  \n",
       "322098  5.397605e-79  5.397605e-79  \n",
       "287433  5.397605e-79  5.397605e-79  \n",
       "82165   5.397605e-79  5.397605e-79  \n",
       "303084  5.397605e-79  5.397605e-79  \n",
       "\n",
       "[71179 rows x 114 columns]"
      ]
     },
     "execution_count": 25,
     "metadata": {},
     "output_type": "execute_result"
    }
   ],
   "source": [
    "X_train.drop(duplicate_feat,axis=1)\n",
    "X_test.drop(duplicate_feat,axis=1)"
   ]
  },
  {
   "cell_type": "markdown",
   "id": "9b5574bb",
   "metadata": {},
   "source": [
    "## 2) correlation coefficient"
   ]
  },
  {
   "cell_type": "code",
   "execution_count": 26,
   "id": "f9503791",
   "metadata": {},
   "outputs": [],
   "source": [
    "def correlation(dataset, threshold):\n",
    "    col_corr = set() # Set of all the names of correlated columns\n",
    "    corr_matrix = dataset.corr()\n",
    "    for i in range(len(corr_matrix.columns)):\n",
    "        for j in range(i):\n",
    "            if abs(corr_matrix.iloc[i,j])>  threshold: # We are interested in absolute coeff value\n",
    "                colname = corr_matrix.columns[i] #getting the name of the column\n",
    "                col_corr.add(colname)\n",
    "    return col_corr"
   ]
  },
  {
   "cell_type": "code",
   "execution_count": 27,
   "id": "aec39310",
   "metadata": {},
   "outputs": [
    {
     "name": "stdout",
     "output_type": "stream",
     "text": [
      "47\n"
     ]
    }
   ],
   "source": [
    "corr_features = correlation(X_train, 0.5)\n",
    "print(len(set(corr_features)))"
   ]
  },
  {
   "cell_type": "code",
   "execution_count": 28,
   "id": "00d9d35c",
   "metadata": {},
   "outputs": [
    {
     "name": "stdout",
     "output_type": "stream",
     "text": [
      "{'_RAWRAKE', '_RFHLTH', '_WT2RAKE', '_RACEPRV', '_RFDRHV7', 'DROCDY3_', '_AGE_G', '_VEGRES1', '_TOTINDA', 'HTM4', '_CHLDCNT', '_DUALUSE', '_RFHYPE6', '_MRACE1', '_HCVU652', '_LMTWRK3', '_RACEG21', '_CASTHM1', '_HLTHPLN', '_AGEG5YR', '_LLCPWT', '_RACE', 'DRNKANY5', '_DRDXAR3', '_VEGETE1', '_CHOLCH3', '_DRNKWK1', '_ASTHMS1', '_FRUITE1', 'HTIN4', '_INCOMG1', '_SEX', '_MISFRT1', '_AGE80', '_SMOKER3', '_FRTRES1', '_VEGLT1A', '_AIDTST4', '_AGE65YR', '_EDUCAG', '_FRTLT1A', '_LLCPWT2', '_RFBING5', '_RACEGR3', '_URBSTAT', '_MICHD', '_LMTACT3'}\n"
     ]
    }
   ],
   "source": [
    "print(corr_features)"
   ]
  },
  {
   "cell_type": "code",
   "execution_count": 29,
   "id": "b1e8d630",
   "metadata": {},
   "outputs": [
    {
     "data": {
      "text/plain": [
       "(284713, 68)"
      ]
     },
     "execution_count": 29,
     "metadata": {},
     "output_type": "execute_result"
    },
    {
     "data": {
      "text/plain": [
       "(71179, 68)"
      ]
     },
     "execution_count": 29,
     "metadata": {},
     "output_type": "execute_result"
    }
   ],
   "source": [
    "X_train=X_train.drop(corr_features,axis=1)\n",
    "X_test=X_test.drop(corr_features,axis=1)\n",
    "X_train.shape\n",
    "X_test.shape"
   ]
  },
  {
   "cell_type": "code",
   "execution_count": 30,
   "id": "0fd49a8b",
   "metadata": {},
   "outputs": [
    {
     "name": "stdout",
     "output_type": "stream",
     "text": [
      "Variable                 Type                 Data/Info\n",
      "-------------------------------------------------------\n",
      "InteractiveShell         MetaHasTraits        <class 'IPython.core.inte<...>eshell.InteractiveShell'>\n",
      "NullValues               Series               _STATE      0.0\\nFMONTH  <...>ngth: 303, dtype: float64\n",
      "OneHotEncoder            type                 <class 'sklearn.preproces<...>_encoders.OneHotEncoder'>\n",
      "RandomForestClassifier   ABCMeta              <class 'sklearn.ensemble.<...>.RandomForestClassifier'>\n",
      "VarianceThreshold        ABCMeta              <class 'sklearn.feature_s<...>shold.VarianceThreshold'>\n",
      "X                        DataFrame                    SEXVAR  GENHLTH  <...>55892 rows x 115 columns]\n",
      "X_test                   DataFrame                    SEXVAR  GENHLTH  <...>[71179 rows x 68 columns]\n",
      "X_test_org               DataFrame                    SEXVAR  GENHLTH  <...>71179 rows x 115 columns]\n",
      "X_train                  DataFrame                    SEXVAR  GENHLTH  <...>284713 rows x 68 columns]\n",
      "X_train1                 ndarray              284713x113: 32172569 elems, type `float64`, 257380552 bytes (245.45722198486328 Mb)\n",
      "X_train_org              DataFrame                    SEXVAR  GENHLTH  <...>84713 rows x 115 columns]\n",
      "accuracy_score           function             <function accuracy_score at 0x000001ED2F893B80>\n",
      "auc                      function             <function auc at 0x000001ED2F813E50>\n",
      "classification_report    function             <function classification_<...>rt at 0x000001ED2F89F4C0>\n",
      "col_1                    str                  _VEGETE1\n",
      "col_2                    str                  _VEGETE1\n",
      "confusion_matrix         function             <function confusion_matrix at 0x000001ED2F893C10>\n",
      "constant_filter          VarianceThreshold    VarianceThreshold(threshold=0.01)\n",
      "constvar                 list                 n=9\n",
      "copy                     module               <module 'copy' from 'C:\\\\<...>Anaconda3\\\\lib\\\\copy.py'>\n",
      "corr_features            set                  {'_RAWRAKE', '_RFHLTH', '<...>T', '_MICHD', '_LMTACT3'}\n",
      "correlation              function             <function correlation at 0x000001ED718E7160>\n",
      "df                       DataFrame                    SEXVAR  GENHLTH  <...>55892 rows x 116 columns]\n",
      "df_1                     DataFrame                    _STATE  FMONTH   <...>38693 rows x 125 columns]\n",
      "df_2                     DataFrame                    _STATE  FMONTH   <...>55892 rows x 125 columns]\n",
      "duplicate_feat           list                 n=1\n",
      "i                        int                  114\n",
      "label_binarize           function             <function label_binarize at 0x000001ED2F7CB940>\n",
      "math                     module               <module 'math' (built-in)>\n",
      "np                       module               <module 'numpy' from 'C:\\<...>ges\\\\numpy\\\\__init__.py'>\n",
      "null                     Series               CTELENM1    0.731507\\nPVT<...>ngth: 178, dtype: float64\n",
      "null_names               ndarray              178: 178 elems, type `object`, 1424 bytes\n",
      "os                       module               <module 'os' from 'C:\\\\Us<...>\\\\Anaconda3\\\\lib\\\\os.py'>\n",
      "pd                       module               <module 'pandas' from 'C:<...>es\\\\pandas\\\\__init__.py'>\n",
      "plt                      module               <module 'matplotlib.pyplo<...>\\\\matplotlib\\\\pyplot.py'>\n",
      "roc_curve                function             <function roc_curve at 0x000001ED2F88EB80>\n",
      "sm                       module               <module 'statsmodels.api'<...>es\\\\statsmodels\\\\api.py'>\n",
      "sns                      module               <module 'seaborn' from 'C<...>s\\\\seaborn\\\\__init__.py'>\n",
      "sv                       module               <module 'sweetviz' from '<...>\\\\sweetviz\\\\__init__.py'>\n",
      "sys                      module               <module 'sys' (built-in)>\n",
      "textwrap                 module               <module 'textwrap' from '<...>onda3\\\\lib\\\\textwrap.py'>\n",
      "train_test_split         function             <function train_test_split at 0x000001ED30A1DA60>\n",
      "warnings                 module               <module 'warnings' from '<...>onda3\\\\lib\\\\warnings.py'>\n",
      "y                        Series               0         2.0\\n2         <...>h: 355892, dtype: float64\n",
      "y_test                   Series               416221    2.0\\n244242    <...>th: 71179, dtype: float64\n",
      "y_test_org               Series               416221    2.0\\n244242    <...>th: 71179, dtype: float64\n",
      "y_train                  Series               100833    2.0\\n67152     <...>h: 284713, dtype: float64\n",
      "y_train_org              Series               100833    2.0\\n67152     <...>h: 284713, dtype: float64\n"
     ]
    }
   ],
   "source": [
    "# Display variable names,type and info in the memory:\n",
    "%whos"
   ]
  },
  {
   "cell_type": "code",
   "execution_count": 32,
   "id": "dfa8a2c6",
   "metadata": {},
   "outputs": [
    {
     "data": {
      "text/plain": [
       "(284713, 68)"
      ]
     },
     "execution_count": 32,
     "metadata": {},
     "output_type": "execute_result"
    },
    {
     "data": {
      "text/plain": [
       "(284713,)"
      ]
     },
     "execution_count": 32,
     "metadata": {},
     "output_type": "execute_result"
    }
   ],
   "source": [
    "X_train.shape\n",
    "y_train.shape"
   ]
  },
  {
   "cell_type": "code",
   "execution_count": 31,
   "id": "80b9fa50",
   "metadata": {},
   "outputs": [
    {
     "data": {
      "text/plain": [
       "RandomForestClassifier(max_depth=20, random_state=45)"
      ]
     },
     "execution_count": 31,
     "metadata": {},
     "output_type": "execute_result"
    }
   ],
   "source": [
    "rf = RandomForestClassifier(max_depth=20, random_state=45)\n",
    "rf.fit(X_train, y_train)\n",
    "importance = rf.feature_importances_"
   ]
  },
  {
   "cell_type": "code",
   "execution_count": 34,
   "id": "e616af08",
   "metadata": {},
   "outputs": [
    {
     "data": {
      "text/plain": [
       "<AxesSubplot:>"
      ]
     },
     "execution_count": 34,
     "metadata": {},
     "output_type": "execute_result"
    },
    {
     "data": {
      "image/png": "[encoded data removed]",
      "text/plain": [
       "<Figure size 1440x720 with 1 Axes>"
      ]
     },
     "metadata": {
      "needs_background": "light"
     },
     "output_type": "display_data"
    }
   ],
   "source": [
    "#plt.figure(figsize=(12,16))\n",
    "plt.rcParams[\"figure.figsize\"]=20,10\n",
    "forest_importances = pd.Series(importance, index=X_train.columns)\n",
    "forest_importances=forest_importances.sort_values(ascending=False)\n",
    "fig, ax = plt.subplots()\n",
    "forest_importances.plot.bar()\n",
    "fig.tight_layout()"
   ]
  },
  {
   "cell_type": "code",
   "execution_count": 35,
   "id": "de166e97",
   "metadata": {},
   "outputs": [
    {
     "name": "stdout",
     "output_type": "stream",
     "text": [
      "[Index(['_STRWT', '_STSTR', 'WEIGHT2', 'WTKG3', 'HEIGHT3', 'POTATOE1',\n",
      "       'FVGREEN1', 'FRENCHF1', 'FRUIT2', 'VEGETAB2', 'CVDINFR4', 'INCOME3',\n",
      "       'FRUITJU2', 'EMPLOY1', 'GENHLTH', 'PHYSHLTH', 'QSTVER', 'PRIMINSR',\n",
      "       'MENTHLTH', 'ALCDAY5', 'DIFFWALK', 'EDUCA', 'MARITAL', 'CVDCRHD4',\n",
      "       'BPHIGH6', '_PHYS14D', 'DIABETE4', 'CHOLCHK3', 'DIFFALON', '_MENT14D',\n",
      "       'HIVTST7', 'PERSDOC3', 'PNEUVAC4', '_PRACE1', 'RENTHOM1', 'CPDEMO1B',\n",
      "       '_IMPRACE', 'DECIDE', 'ECIGNOW1', 'BLIND', 'FLUSHOT7', 'DEAF',\n",
      "       'CHCKDNY2', 'SMOKE100', 'EXERANY2', 'CHCSCNCR', 'CHCOCNCR', 'HAVARTH5',\n",
      "       'ADDEPEV3', 'DIFFDRES', 'CHCCOPD3', '_METSTAT', 'CHILDREN', 'CHECKUP1',\n",
      "       'VETERAN3', '_RFSMOK3', 'ASTHMA3', 'SEXVAR', '_LTASTH1', '_RFBMI5',\n",
      "       'MEDCOST1', '_MISVEG1', '_HISPANC', 'USENOW3', '_CURECI1', '_VEG23A',\n",
      "       '_FRT16A', 'QSTLANG'],\n",
      "      dtype='object')]\n"
     ]
    }
   ],
   "source": [
    "print(forest_importances.axes)"
   ]
  },
  {
   "cell_type": "code",
   "execution_count": 36,
   "id": "6502ac33",
   "metadata": {},
   "outputs": [],
   "source": [
    "rf_delfeatures =(['_PHYS14D', 'DIABETE4', 'DIFFALON', 'CHOLCHK3', 'PERSDOC3',\n",
    "        'HIVTST7', '_MENT14D', 'CPDEMO1B', 'PNEUVAC4', 'RENTHOM1', '_PRACE1',\n",
    "        'DECIDE', '_IMPRACE', 'BLIND', 'ECIGNOW1', 'DEAF', 'DIFFDRES',\n",
    "        'FLUSHOT7', 'CHCOCNCR', 'EXERANY2', 'SMOKE100', 'CHCSCNCR', 'CHCKDNY2',\n",
    "        'CHCCOPD3', 'ADDEPEV3', 'HAVARTH5', '_METSTAT', 'CHILDREN', 'CHECKUP1',\n",
    "        'ASTHMA3', 'VETERAN3', '_LTASTH1', '_RFSMOK3', 'SEXVAR', '_RFBMI5',\n",
    "        'MEDCOST1', '_MISVEG1', '_HISPANC', 'USENOW3', '_CURECI1', '_VEG23A',\n",
    "        '_FRT16A', 'QSTLANG'])# selecting all the features except top25 important features"
   ]
  },
  {
   "cell_type": "code",
   "execution_count": 37,
   "id": "1b6317c3",
   "metadata": {},
   "outputs": [
    {
     "data": {
      "text/plain": [
       "(284713, 25)"
      ]
     },
     "execution_count": 37,
     "metadata": {},
     "output_type": "execute_result"
    },
    {
     "data": {
      "text/plain": [
       "(71179, 25)"
      ]
     },
     "execution_count": 37,
     "metadata": {},
     "output_type": "execute_result"
    }
   ],
   "source": [
    "X_train=X_train.drop(rf_delfeatures,axis=1)\n",
    "X_test=X_test.drop(rf_delfeatures,axis=1)\n",
    "X_train.shape\n",
    "X_test.shape"
   ]
  },
  {
   "cell_type": "code",
   "execution_count": 38,
   "id": "23e1d7b4",
   "metadata": {},
   "outputs": [
    {
     "name": "stdout",
     "output_type": "stream",
     "text": [
      "GENHLTH     float64\n",
      "PHYSHLTH    float64\n",
      "MENTHLTH    float64\n",
      "PRIMINSR    float64\n",
      "BPHIGH6     float64\n",
      "CVDINFR4    float64\n",
      "CVDCRHD4    float64\n",
      "MARITAL     float64\n",
      "EDUCA       float64\n",
      "EMPLOY1     float64\n",
      "INCOME3     float64\n",
      "WEIGHT2     float64\n",
      "HEIGHT3     float64\n",
      "DIFFWALK    float64\n",
      "ALCDAY5     float64\n",
      "FRUIT2      float64\n",
      "FRUITJU2    float64\n",
      "FVGREEN1    float64\n",
      "FRENCHF1    float64\n",
      "POTATOE1    float64\n",
      "VEGETAB2    float64\n",
      "QSTVER      float64\n",
      "_STSTR      float64\n",
      "_STRWT      float64\n",
      "WTKG3       float64\n",
      "dtype: object\n"
     ]
    }
   ],
   "source": [
    "with pd.option_context('display.max_rows', None, 'display.max_columns', None):\n",
    "    print(X_train.dtypes) # all the features are float so no need for one hot encoding"
   ]
  },
  {
   "cell_type": "markdown",
   "id": "c5ef83c3",
   "metadata": {},
   "source": [
    "## Implementing Synthetic Minority Oversampling TEchnique (SMOTE) : to deal with imbalance datset"
   ]
  },
  {
   "cell_type": "code",
   "execution_count": 39,
   "id": "f458aa4e",
   "metadata": {},
   "outputs": [],
   "source": [
    "from imblearn.over_sampling import SMOTE"
   ]
  },
  {
   "cell_type": "code",
   "execution_count": 40,
   "id": "84c32712",
   "metadata": {},
   "outputs": [],
   "source": [
    "sm = SMOTE(random_state = 2)"
   ]
  },
  {
   "cell_type": "code",
   "execution_count": 41,
   "id": "afd9ad44",
   "metadata": {},
   "outputs": [],
   "source": [
    "X_train_res, y_train_res = sm.fit_resample(X_train, y_train)"
   ]
  },
  {
   "cell_type": "code",
   "execution_count": 42,
   "id": "2f9e22b2",
   "metadata": {},
   "outputs": [
    {
     "data": {
      "text/plain": [
       "(546696, 25)"
      ]
     },
     "execution_count": 42,
     "metadata": {},
     "output_type": "execute_result"
    },
    {
     "data": {
      "text/plain": [
       "(546696,)"
      ]
     },
     "execution_count": 42,
     "metadata": {},
     "output_type": "execute_result"
    }
   ],
   "source": [
    "X_train_res.shape\n",
    "y_train_res.shape"
   ]
  },
  {
   "cell_type": "code",
   "execution_count": 43,
   "id": "2d6535a8",
   "metadata": {},
   "outputs": [
    {
     "data": {
      "text/plain": [
       "2.0    273348\n",
       "1.0     11365\n",
       "Name: CVDSTRK3, dtype: int64"
      ]
     },
     "execution_count": 43,
     "metadata": {},
     "output_type": "execute_result"
    },
    {
     "data": {
      "text/plain": [
       "2.0    273348\n",
       "1.0    273348\n",
       "Name: CVDSTRK3, dtype: int64"
      ]
     },
     "execution_count": 43,
     "metadata": {},
     "output_type": "execute_result"
    }
   ],
   "source": [
    "# comparing ouput variable before and after application of SMOTE\n",
    "y_train.value_counts() \n",
    "y_train_res.value_counts() "
   ]
  },
  {
   "cell_type": "markdown",
   "id": "9da3bdae",
   "metadata": {},
   "source": [
    "## Logistics regression from SKLearn"
   ]
  },
  {
   "cell_type": "code",
   "execution_count": 46,
   "id": "9f7ceeb6",
   "metadata": {},
   "outputs": [
    {
     "data": {
      "text/plain": [
       "LogisticRegression(max_iter=10000)"
      ]
     },
     "execution_count": 46,
     "metadata": {},
     "output_type": "execute_result"
    }
   ],
   "source": [
    "from sklearn.linear_model import LogisticRegression\n",
    "lr_model = LogisticRegression(max_iter=10000)\n",
    "lr_model.fit(X_train_res, y_train_res)"
   ]
  },
  {
   "cell_type": "code",
   "execution_count": 47,
   "id": "f553a1c5",
   "metadata": {},
   "outputs": [],
   "source": [
    "log_y_pred_res = lr_model.predict(X_test)"
   ]
  },
  {
   "cell_type": "code",
   "execution_count": 48,
   "id": "32b6d36b",
   "metadata": {},
   "outputs": [
    {
     "name": "stdout",
     "output_type": "stream",
     "text": [
      "              precision    recall  f1-score   support\n",
      "\n",
      "         1.0       0.08      0.71      0.15      2847\n",
      "         2.0       0.98      0.68      0.80     68332\n",
      "\n",
      "    accuracy                           0.68     71179\n",
      "   macro avg       0.53      0.69      0.48     71179\n",
      "weighted avg       0.95      0.68      0.78     71179\n",
      "\n"
     ]
    }
   ],
   "source": [
    "print(classification_report(y_test, log_y_pred_res))"
   ]
  },
  {
   "cell_type": "markdown",
   "id": "7c3fc97d",
   "metadata": {},
   "source": [
    "## Naive Bayes using SKLearn"
   ]
  },
  {
   "cell_type": "code",
   "execution_count": 49,
   "id": "1af0a7b5",
   "metadata": {},
   "outputs": [
    {
     "data": {
      "text/plain": [
       "GaussianNB()"
      ]
     },
     "execution_count": 49,
     "metadata": {},
     "output_type": "execute_result"
    }
   ],
   "source": [
    "from sklearn.naive_bayes import GaussianNB\n",
    "gnb = GaussianNB()\n",
    "gnb.fit(X_train_res, y_train_res)"
   ]
  },
  {
   "cell_type": "code",
   "execution_count": 50,
   "id": "6bea5eed",
   "metadata": {},
   "outputs": [
    {
     "name": "stdout",
     "output_type": "stream",
     "text": [
      "              precision    recall  f1-score   support\n",
      "\n",
      "         1.0       0.05      0.75      0.09      2847\n",
      "         2.0       0.97      0.36      0.52     68332\n",
      "\n",
      "    accuracy                           0.37     71179\n",
      "   macro avg       0.51      0.55      0.30     71179\n",
      "weighted avg       0.93      0.37      0.50     71179\n",
      "\n"
     ]
    }
   ],
   "source": [
    "nb_y_pred_res = gnb.predict(X_test)\n",
    "print(classification_report(y_test, nb_y_pred_res))"
   ]
  },
  {
   "cell_type": "markdown",
   "id": "7fbe5686",
   "metadata": {},
   "source": [
    "## Random Forest using SKLearn"
   ]
  },
  {
   "cell_type": "code",
   "execution_count": 51,
   "id": "861e0e7a",
   "metadata": {},
   "outputs": [],
   "source": [
    "max_depth_list = [2, 4, 8, 16, 32, 64, None]\n",
    "RANDOM_STATE = 55 ## We will pass it to every sklearn call so we ensure reproducibility"
   ]
  },
  {
   "cell_type": "code",
   "execution_count": 52,
   "id": "3d2a3ef4",
   "metadata": {},
   "outputs": [],
   "source": [
    "accuracy_list_train = []\n",
    "accuracy_list_val = []\n",
    "for max_depth in max_depth_list:\n",
    "    # You can fit the model at the same time you define it, because the fit function returns the fitted estimator.\n",
    "    model = RandomForestClassifier(max_depth = max_depth,\n",
    "                                   random_state = RANDOM_STATE).fit(X_train_res,y_train_res) \n",
    "    predictions_train = model.predict(X_train_res) ## The predicted values for the train dataset\n",
    "    predictions_val = model.predict(X_test) ## The predicted values for the test dataset\n",
    "    accuracy_train = accuracy_score(predictions_train,y_train_res)\n",
    "    accuracy_val = accuracy_score(predictions_val,y_test)\n",
    "    accuracy_list_train.append(accuracy_train)\n",
    "    accuracy_list_val.append(accuracy_val)"
   ]
  },
  {
   "cell_type": "code",
   "execution_count": 54,
   "id": "250a1d59",
   "metadata": {},
   "outputs": [],
   "source": [
    "random_forest_model = RandomForestClassifier(n_estimators = 100,\n",
    "                                             max_depth = 8, \n",
    "                                             min_samples_split = 10).fit(X_train_res,y_train_res)"
   ]
  },
  {
   "cell_type": "code",
   "execution_count": 55,
   "id": "78edf1b1",
   "metadata": {},
   "outputs": [],
   "source": [
    "rf_y_pred_res = random_forest_model.predict(X_test)"
   ]
  },
  {
   "cell_type": "code",
   "execution_count": 56,
   "id": "bc9ba090",
   "metadata": {},
   "outputs": [],
   "source": [
    "pred_prob = random_forest_model.predict_proba(X_test)"
   ]
  },
  {
   "cell_type": "code",
   "execution_count": 57,
   "id": "6a06bbd6",
   "metadata": {},
   "outputs": [
    {
     "name": "stdout",
     "output_type": "stream",
     "text": [
      "              precision    recall  f1-score   support\n",
      "\n",
      "         1.0       0.17      0.32      0.22      2847\n",
      "         2.0       0.97      0.93      0.95     68332\n",
      "\n",
      "    accuracy                           0.91     71179\n",
      "   macro avg       0.57      0.63      0.59     71179\n",
      "weighted avg       0.94      0.91      0.92     71179\n",
      "\n"
     ]
    }
   ],
   "source": [
    "rf_per = classification_report(y_test, rf_y_pred_res)\n",
    "print(rf_per)\n",
    "warnings.filterwarnings('ignore')"
   ]
  },
  {
   "cell_type": "markdown",
   "id": "db11fbad",
   "metadata": {},
   "source": [
    "## Support Vector Machine(SVM) from SKLearn"
   ]
  },
  {
   "cell_type": "code",
   "execution_count": null,
   "id": "21c74eaa",
   "metadata": {},
   "outputs": [],
   "source": [
    "from sklearn import svm\n",
    "'''\n",
    "Kernel coefficient for ''rbf','poly' and 'sigmoid'.\n",
    "current default is 'auto' which uses (1/n_features),\n",
    "if ``gamma='scale'`` is passes then it uses 1/(n_features*X.var())\n",
    "as value of gamma.\n",
    "'''\n",
    "classifier = svm.SVC(kernel='rbf', gamma='auto' , C=1.5)"
   ]
  },
  {
   "cell_type": "code",
   "execution_count": null,
   "id": "315d655d",
   "metadata": {},
   "outputs": [],
   "source": [
    "classifier.fit(X_train_res, y_train_res)\n",
    "svm_y_pred_res = classifier.predict(X_test)"
   ]
  },
  {
   "cell_type": "code",
   "execution_count": null,
   "id": "c87797da",
   "metadata": {},
   "outputs": [],
   "source": [
    "svc_per_res =classification_report(y_test, svm_y_pred_res)\n",
    "print(svc_per)\n",
    "warnings.filterwarnings('ignore')"
   ]
  },
  {
   "cell_type": "code",
   "execution_count": null,
   "id": "33fb174f",
   "metadata": {},
   "outputs": [],
   "source": [
    "print(\"Random forest Algorithm\")\n",
    "print(rf_per)\n",
    "print(\"Performance of Support Vector Machine\")\n",
    "\n",
    "print(rf_per_res)"
   ]
  },
  {
   "cell_type": "markdown",
   "id": "0b78418f",
   "metadata": {},
   "source": [
    "## ROC of resampled data"
   ]
  },
  {
   "cell_type": "code",
   "execution_count": 58,
   "id": "368d879d",
   "metadata": {},
   "outputs": [
    {
     "data": {
      "image/png": "[encoded data removed]",
      "text/plain": [
       "<Figure size 1000x500 with 1 Axes>"
      ]
     },
     "metadata": {
      "needs_background": "light"
     },
     "output_type": "display_data"
    }
   ],
   "source": [
    "y_test_bi = label_binarize(y_test, classes = np.unique(y_test))\n",
    "\n",
    "log_fpr, log_tpr, thresold = roc_curve(y_test_bi, log_y_pred_res)\n",
    "log_auc = auc(log_fpr, log_tpr)\n",
    "\n",
    "nb_fpr, nb_tpr, thresold = roc_curve(y_test_bi, nb_y_pred_res)\n",
    "nb_auc = auc(nb_fpr, nb_tpr)\n",
    "\n",
    "rf_fpr, rf_tpr, thresold = roc_curve(y_test_bi, rf_y_pred_res)\n",
    "rf_auc = auc(rf_fpr, rf_tpr)\n",
    "\n",
    "plt.figure(figsize = (10, 5), dpi = 100)\n",
    "plt.plot(log_fpr, log_tpr, linestyle= '--', label='Logistic Regression (auc = %0.3f)' % log_auc)\n",
    "plt.plot(nb_fpr, nb_tpr, linestyle= '--', label='Naive Bayes (auc = %0.3f)' % nb_auc)\n",
    "plt.plot(rf_fpr, rf_tpr, linestyle= '--', label='Random Forest (auc = %0.3f)' % rf_auc)\n",
    "\n",
    "plt.title('ROC Curve')\n",
    "plt.xlabel('False Positive Rate')\n",
    "plt.ylabel('True Positive rate')\n",
    "plt.legend(loc='lower right')\n",
    "plt.show();"
   ]
  },
  {
   "cell_type": "markdown",
   "id": "1c1f4a05",
   "metadata": {},
   "source": [
    "## Precision-Recall Curve as the original training data was skewed"
   ]
  },
  {
   "cell_type": "code",
   "execution_count": null,
   "id": "7e02598a",
   "metadata": {},
   "outputs": [],
   "source": []
  }
 ],
 "metadata": {
  "kernelspec": {
   "display_name": "Python 3 (ipykernel)",
   "language": "python",
   "name": "python3"
  },
  "language_info": {
   "codemirror_mode": {
    "name": "ipython",
    "version": 3
   },
   "file_extension": ".py",
   "mimetype": "text/x-python",
   "name": "python",
   "nbconvert_exporter": "python",
   "pygments_lexer": "ipython3",
   "version": "3.9.12"
  }
 },
 "nbformat": 4,
 "nbformat_minor": 5
}
